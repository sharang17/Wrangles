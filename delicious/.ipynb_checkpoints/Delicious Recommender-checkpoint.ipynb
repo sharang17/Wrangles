{
 "cells": [
  {
   "cell_type": "markdown",
   "metadata": {},
   "source": [
    "## Writing a data source, to test the pearson and euclidean distance functions"
   ]
  },
  {
   "cell_type": "code",
   "execution_count": 1,
   "metadata": {
    "collapsed": true
   },
   "outputs": [],
   "source": [
    "critics={'Lisa Rose': {'Lady in the Water': 2.5, 'Snakes on a Plane': 3.5,\n",
    "'Just My Luck': 3.0, 'Superman Returns': 3.5, 'You, Me and Dupree': 2.5,\n",
    "'The Night Listener': 3.0},\n",
    "'Gene Seymour': {'Lady in the Water': 3.0, 'Snakes on a Plane': 3.5,\n",
    "'Just My Luck': 1.5, 'Superman Returns': 5.0, 'The Night Listener': 3.0,\n",
    "'You, Me and Dupree': 3.5},\n",
    "'Michael Phillips': {'Lady in the Water': 2.5, 'Snakes on a Plane': 3.0,\n",
    "'Superman Returns': 3.5, 'The Night Listener': 4.0},\n",
    "'Claudia Puig': {'Snakes on a Plane': 3.5, 'Just My Luck': 3.0,\n",
    "'The Night Listener': 4.5, 'Superman Returns': 4.0,\n",
    "'You, Me and Dupree': 2.5},\n",
    "'Mick LaSalle': {'Lady in the Water': 3.0, 'Snakes on a Plane': 4.0,\n",
    "'Just My Luck': 2.0, 'Superman Returns': 3.0, 'The Night Listener': 3.0,\n",
    "'You, Me and Dupree': 2.0},\n",
    "'Jack Matthews': {'Lady in the Water': 3.0, 'Snakes on a Plane': 4.0,\n",
    "'The Night Listener': 3.0, 'Superman Returns': 5.0, 'You, Me and Dupree': 3.5},\n",
    "'Toby': {'Snakes on a Plane':4.5,'You, Me and Dupree':1.0,'Superman Returns':4.0}}"
   ]
  },
  {
   "cell_type": "markdown",
   "metadata": {},
   "source": [
    "The Dataset is in the form of a dictionary of dictionary, where the key is the name of a critic, and the value is a dicitonary of the movies rated by the critic. Accessing a rating requires access to the name of the critic (key), and the value (name of the film). The first distance function used is the simple euclidean distance "
   ]
  },
  {
   "cell_type": "code",
   "execution_count": 2,
   "metadata": {
    "collapsed": false
   },
   "outputs": [
    {
     "data": {
      "text/plain": [
       "2.5"
      ]
     },
     "execution_count": 2,
     "metadata": {},
     "output_type": "execute_result"
    }
   ],
   "source": [
    "critics['Lisa Rose']['Lady in the Water']"
   ]
  },
  {
   "cell_type": "code",
   "execution_count": 3,
   "metadata": {
    "collapsed": false
   },
   "outputs": [
    {
     "data": {
      "text/plain": [
       "{'Snakes on a Plane': 4.5, 'Superman Returns': 4.0, 'You, Me and Dupree': 1.0}"
      ]
     },
     "execution_count": 3,
     "metadata": {},
     "output_type": "execute_result"
    }
   ],
   "source": [
    "critics['Toby']"
   ]
  },
  {
   "cell_type": "markdown",
   "metadata": {},
   "source": [
    "## Finding Similar Critics"
   ]
  },
  {
   "cell_type": "code",
   "execution_count": 4,
   "metadata": {
    "collapsed": true
   },
   "outputs": [],
   "source": [
    "def euclidean(ratings,cr1,cr2):\n",
    "    si={}\n",
    "    for movie in ratings[cr1]:\n",
    "        if movie in ratings[cr2]:\n",
    "              si[movie]=1\n",
    "    if len(si)==0:\n",
    "        return 0\n",
    "    sum_of_sq=sum([pow(ratings[cr1][movie]-ratings[cr2][movie],2) for movie in ratings[cr1] if movie in ratings[cr2]])\n",
    "    return 1/(1+sum_of_sq)\n",
    "        "
   ]
  },
  {
   "cell_type": "code",
   "execution_count": 5,
   "metadata": {
    "collapsed": false
   },
   "outputs": [],
   "source": [
    "si=euclidean(critics,'Lisa Rose','Toby')"
   ]
  },
  {
   "cell_type": "code",
   "execution_count": 6,
   "metadata": {
    "collapsed": false
   },
   "outputs": [
    {
     "name": "stdout",
     "output_type": "stream",
     "text": [
      "0.222222222222\n"
     ]
    }
   ],
   "source": [
    "print si"
   ]
  },
  {
   "cell_type": "markdown",
   "metadata": {},
   "source": [
    "Instead of running the function for each pair of critics, I wrote a snippet to create a dictionary consisting of the key, which is the critic, and the values, which is the similarity score for w.r.t each other critic. The value of similarity of the critic w.r.t himself/herself will obviously be 1."
   ]
  },
  {
   "cell_type": "code",
   "execution_count": 7,
   "metadata": {
    "collapsed": false
   },
   "outputs": [],
   "source": [
    "def all_sims(critics):\n",
    "    sim_all={}\n",
    "    for critic,rating in critics.iteritems():\n",
    "        for c_in,r_in in critics.iteritems():\n",
    "            if critic==c_in:\n",
    "                continue\n",
    "            sim_score=euclidean(critics,critic,c_in)\n",
    "            sim_temp={'Critic':c_in,'Score':sim_score}\n",
    "            if critic not  in sim_all:\n",
    "                #sim_add={critic:sim_temp}\n",
    "                sim_all[critic]=[sim_temp]\n",
    "            else:\n",
    "                sim_all[critic].append(sim_temp)\n",
    "    return sim_all"
   ]
  },
  {
   "cell_type": "code",
   "execution_count": 8,
   "metadata": {
    "collapsed": false
   },
   "outputs": [],
   "source": [
    "sims=all_sims(critics)"
   ]
  },
  {
   "cell_type": "code",
   "execution_count": 9,
   "metadata": {
    "collapsed": false
   },
   "outputs": [
    {
     "data": {
      "text/plain": [
       "{'Claudia Puig': [{'Critic': 'Jack Matthews', 'Score': 0.18181818181818182},\n",
       "  {'Critic': 'Mick LaSalle', 'Score': 0.17391304347826086},\n",
       "  {'Critic': 'Lisa Rose', 'Score': 0.2857142857142857},\n",
       "  {'Critic': 'Toby', 'Score': 0.23529411764705882},\n",
       "  {'Critic': 'Gene Seymour', 'Score': 0.13333333333333333},\n",
       "  {'Critic': 'Michael Phillips', 'Score': 0.5714285714285714}],\n",
       " 'Gene Seymour': [{'Critic': 'Jack Matthews', 'Score': 0.8},\n",
       "  {'Critic': 'Mick LaSalle', 'Score': 0.12903225806451613},\n",
       "  {'Critic': 'Claudia Puig', 'Score': 0.13333333333333333},\n",
       "  {'Critic': 'Lisa Rose', 'Score': 0.14814814814814814},\n",
       "  {'Critic': 'Toby', 'Score': 0.10810810810810811},\n",
       "  {'Critic': 'Michael Phillips', 'Score': 0.21052631578947367}],\n",
       " 'Jack Matthews': [{'Critic': 'Mick LaSalle', 'Score': 0.13793103448275862},\n",
       "  {'Critic': 'Claudia Puig', 'Score': 0.18181818181818182},\n",
       "  {'Critic': 'Lisa Rose', 'Score': 0.21052631578947367},\n",
       "  {'Critic': 'Toby', 'Score': 0.11764705882352941},\n",
       "  {'Critic': 'Gene Seymour', 'Score': 0.8},\n",
       "  {'Critic': 'Michael Phillips', 'Score': 0.18181818181818182}],\n",
       " 'Lisa Rose': [{'Critic': 'Jack Matthews', 'Score': 0.21052631578947367},\n",
       "  {'Critic': 'Mick LaSalle', 'Score': 0.3333333333333333},\n",
       "  {'Critic': 'Claudia Puig', 'Score': 0.2857142857142857},\n",
       "  {'Critic': 'Toby', 'Score': 0.2222222222222222},\n",
       "  {'Critic': 'Gene Seymour', 'Score': 0.14814814814814814},\n",
       "  {'Critic': 'Michael Phillips', 'Score': 0.4444444444444444}],\n",
       " 'Michael Phillips': [{'Critic': 'Jack Matthews',\n",
       "   'Score': 0.18181818181818182},\n",
       "  {'Critic': 'Mick LaSalle', 'Score': 0.2857142857142857},\n",
       "  {'Critic': 'Claudia Puig', 'Score': 0.5714285714285714},\n",
       "  {'Critic': 'Lisa Rose', 'Score': 0.4444444444444444},\n",
       "  {'Critic': 'Toby', 'Score': 0.2857142857142857},\n",
       "  {'Critic': 'Gene Seymour', 'Score': 0.21052631578947367}],\n",
       " 'Mick LaSalle': [{'Critic': 'Jack Matthews', 'Score': 0.13793103448275862},\n",
       "  {'Critic': 'Claudia Puig', 'Score': 0.17391304347826086},\n",
       "  {'Critic': 'Lisa Rose', 'Score': 0.3333333333333333},\n",
       "  {'Critic': 'Toby', 'Score': 0.3076923076923077},\n",
       "  {'Critic': 'Gene Seymour', 'Score': 0.12903225806451613},\n",
       "  {'Critic': 'Michael Phillips', 'Score': 0.2857142857142857}],\n",
       " 'Toby': [{'Critic': 'Jack Matthews', 'Score': 0.11764705882352941},\n",
       "  {'Critic': 'Mick LaSalle', 'Score': 0.3076923076923077},\n",
       "  {'Critic': 'Claudia Puig', 'Score': 0.23529411764705882},\n",
       "  {'Critic': 'Lisa Rose', 'Score': 0.2222222222222222},\n",
       "  {'Critic': 'Gene Seymour', 'Score': 0.10810810810810811},\n",
       "  {'Critic': 'Michael Phillips', 'Score': 0.2857142857142857}]}"
      ]
     },
     "execution_count": 9,
     "metadata": {},
     "output_type": "execute_result"
    }
   ],
   "source": [
    "sims"
   ]
  },
  {
   "cell_type": "markdown",
   "metadata": {},
   "source": [
    "Above is a dictionary of all critics, along with their similarity scores for each other critic. I preferred a dictionary to a DataFrame, as it makes further computations easy. "
   ]
  },
  {
   "cell_type": "markdown",
   "metadata": {},
   "source": [
    "# Pearson Correlation Distance"
   ]
  },
  {
   "cell_type": "code",
   "execution_count": 10,
   "metadata": {
    "collapsed": true
   },
   "outputs": [],
   "source": [
    "from math import sqrt\n",
    "def pearson(critics,cr1,cr2):\n",
    "    si={}\n",
    "    for movie in critics[cr1]:\n",
    "        if movie in critics[cr2]:\n",
    "            si[movie]=1\n",
    "    n=len(si)\n",
    "    sum1=sum([critics[cr1][movie] for movie in si])\n",
    "    sum2=sum([critics[cr2][movie] for movie in si])\n",
    "    \n",
    "    sum1_sq=sum([pow(critics[cr1][movie],2) for movie in si])\n",
    "    sum2_sq=sum([pow(critics[cr2][movie],2) for movie in si])\n",
    "    \n",
    "    pr_cr=sum([critics[cr1][movie]*critics[cr2][movie] for movie in si])\n",
    "    num=pr_cr-(sum1*sum2/n)\n",
    "    den=sqrt((sum1_sq-pow(sum1,2)/n)*(sum2_sq-pow(sum2,2)/n))\n",
    "    if den==0: return 0\n",
    "    r=num/den\n",
    "    \n",
    "    return r"
   ]
  },
  {
   "cell_type": "code",
   "execution_count": 11,
   "metadata": {
    "collapsed": false
   },
   "outputs": [],
   "source": [
    "def all_sims_pearson(critics):\n",
    "    sim_all={}\n",
    "    for critic,rating in critics.iteritems():\n",
    "        for c_in,r_in in critics.iteritems():\n",
    "            if critic==c_in:\n",
    "                continue\n",
    "            sim_score=pearson(critics,critic,c_in)\n",
    "            sim_temp={'Critic':c_in,'Score':sim_score}\n",
    "            if critic not  in sim_all:\n",
    "                #sim_add={critic:sim_temp}\n",
    "                sim_all[critic]=[sim_temp]\n",
    "            else:\n",
    "                sim_all[critic].append(sim_temp)\n",
    "    return sim_all"
   ]
  },
  {
   "cell_type": "code",
   "execution_count": 12,
   "metadata": {
    "collapsed": false
   },
   "outputs": [
    {
     "data": {
      "text/plain": [
       "{'Claudia Puig': [{'Critic': 'Jack Matthews', 'Score': 0.02857142857142857},\n",
       "  {'Critic': 'Mick LaSalle', 'Score': 0.5669467095138411},\n",
       "  {'Critic': 'Lisa Rose', 'Score': 0.5669467095138396},\n",
       "  {'Critic': 'Toby', 'Score': 0.8934051474415647},\n",
       "  {'Critic': 'Gene Seymour', 'Score': 0.31497039417435607},\n",
       "  {'Critic': 'Michael Phillips', 'Score': 1.0}],\n",
       " 'Gene Seymour': [{'Critic': 'Jack Matthews', 'Score': 0.963795681875635},\n",
       "  {'Critic': 'Mick LaSalle', 'Score': 0.41176470588235276},\n",
       "  {'Critic': 'Claudia Puig', 'Score': 0.31497039417435607},\n",
       "  {'Critic': 'Lisa Rose', 'Score': 0.39605901719066977},\n",
       "  {'Critic': 'Toby', 'Score': 0.38124642583151164},\n",
       "  {'Critic': 'Michael Phillips', 'Score': 0.20459830184114206}],\n",
       " 'Jack Matthews': [{'Critic': 'Mick LaSalle', 'Score': 0.21128856368212925},\n",
       "  {'Critic': 'Claudia Puig', 'Score': 0.02857142857142857},\n",
       "  {'Critic': 'Lisa Rose', 'Score': 0.7470178808339965},\n",
       "  {'Critic': 'Toby', 'Score': 0.66284898035987},\n",
       "  {'Critic': 'Gene Seymour', 'Score': 0.963795681875635},\n",
       "  {'Critic': 'Michael Phillips', 'Score': 0.13483997249264842}],\n",
       " 'Lisa Rose': [{'Critic': 'Jack Matthews', 'Score': 0.7470178808339965},\n",
       "  {'Critic': 'Mick LaSalle', 'Score': 0.5940885257860044},\n",
       "  {'Critic': 'Claudia Puig', 'Score': 0.5669467095138396},\n",
       "  {'Critic': 'Toby', 'Score': 0.9912407071619299},\n",
       "  {'Critic': 'Gene Seymour', 'Score': 0.39605901719066977},\n",
       "  {'Critic': 'Michael Phillips', 'Score': 0.40451991747794525}],\n",
       " 'Michael Phillips': [{'Critic': 'Jack Matthews',\n",
       "   'Score': 0.13483997249264842},\n",
       "  {'Critic': 'Mick LaSalle', 'Score': -0.2581988897471611},\n",
       "  {'Critic': 'Claudia Puig', 'Score': 1.0},\n",
       "  {'Critic': 'Lisa Rose', 'Score': 0.40451991747794525},\n",
       "  {'Critic': 'Toby', 'Score': -1.0},\n",
       "  {'Critic': 'Gene Seymour', 'Score': 0.20459830184114206}],\n",
       " 'Mick LaSalle': [{'Critic': 'Jack Matthews', 'Score': 0.21128856368212925},\n",
       "  {'Critic': 'Claudia Puig', 'Score': 0.5669467095138411},\n",
       "  {'Critic': 'Lisa Rose', 'Score': 0.5940885257860044},\n",
       "  {'Critic': 'Toby', 'Score': 0.9244734516419049},\n",
       "  {'Critic': 'Gene Seymour', 'Score': 0.41176470588235276},\n",
       "  {'Critic': 'Michael Phillips', 'Score': -0.2581988897471611}],\n",
       " 'Toby': [{'Critic': 'Jack Matthews', 'Score': 0.66284898035987},\n",
       "  {'Critic': 'Mick LaSalle', 'Score': 0.9244734516419049},\n",
       "  {'Critic': 'Claudia Puig', 'Score': 0.8934051474415647},\n",
       "  {'Critic': 'Lisa Rose', 'Score': 0.9912407071619299},\n",
       "  {'Critic': 'Gene Seymour', 'Score': 0.38124642583151164},\n",
       "  {'Critic': 'Michael Phillips', 'Score': -1.0}]}"
      ]
     },
     "execution_count": 12,
     "metadata": {},
     "output_type": "execute_result"
    }
   ],
   "source": [
    "all_sims_pearson(critics)"
   ]
  },
  {
   "cell_type": "markdown",
   "metadata": {},
   "source": [
    "The above dictionary provides the Pearson correlation coefficient between two critics. The Pearson coefficient corrects for instances such as critics who are harsher than the others, it scales ratings as a ratio rather than absolute values as in the case of a euclidean distance. The other possible measurs are Jaccard Similarities or Manhattan Distances, both of which have their own set of flaws."
   ]
  },
  {
   "cell_type": "markdown",
   "metadata": {},
   "source": [
    "# Ranking the Critics"
   ]
  },
  {
   "cell_type": "markdown",
   "metadata": {},
   "source": [
    "The below rankings sort each of the similarity scores s and select the top 3 most similar critics for each particular critic. "
   ]
  },
  {
   "cell_type": "code",
   "execution_count": 13,
   "metadata": {
    "collapsed": true
   },
   "outputs": [],
   "source": [
    "sim_all=all_sims_pearson(critics)"
   ]
  },
  {
   "cell_type": "code",
   "execution_count": 14,
   "metadata": {
    "collapsed": false
   },
   "outputs": [],
   "source": [
    "from operator import itemgetter\n",
    "def most_sim(sim_all):\n",
    "    ranks_top3={}\n",
    "    for critic,ranking in sim_all.iteritems():\n",
    "        sorted_temp=sorted(sim_all[critic], key=itemgetter('Score'), reverse=True)\n",
    "        sorted_temp=sorted_temp[:3]\n",
    "        ranks_top3[critic]=sorted_temp\n",
    "    return ranks_top3   \n",
    "   "
   ]
  },
  {
   "cell_type": "code",
   "execution_count": 15,
   "metadata": {
    "collapsed": false
   },
   "outputs": [],
   "source": [
    "top3_critics=most_sim(sim_all)"
   ]
  },
  {
   "cell_type": "code",
   "execution_count": 16,
   "metadata": {
    "collapsed": false
   },
   "outputs": [
    {
     "data": {
      "text/plain": [
       "{'Claudia Puig': [{'Critic': 'Michael Phillips', 'Score': 1.0},\n",
       "  {'Critic': 'Toby', 'Score': 0.8934051474415647},\n",
       "  {'Critic': 'Mick LaSalle', 'Score': 0.5669467095138411}],\n",
       " 'Gene Seymour': [{'Critic': 'Jack Matthews', 'Score': 0.963795681875635},\n",
       "  {'Critic': 'Mick LaSalle', 'Score': 0.41176470588235276},\n",
       "  {'Critic': 'Lisa Rose', 'Score': 0.39605901719066977}],\n",
       " 'Jack Matthews': [{'Critic': 'Gene Seymour', 'Score': 0.963795681875635},\n",
       "  {'Critic': 'Lisa Rose', 'Score': 0.7470178808339965},\n",
       "  {'Critic': 'Toby', 'Score': 0.66284898035987}],\n",
       " 'Lisa Rose': [{'Critic': 'Toby', 'Score': 0.9912407071619299},\n",
       "  {'Critic': 'Jack Matthews', 'Score': 0.7470178808339965},\n",
       "  {'Critic': 'Mick LaSalle', 'Score': 0.5940885257860044}],\n",
       " 'Michael Phillips': [{'Critic': 'Claudia Puig', 'Score': 1.0},\n",
       "  {'Critic': 'Lisa Rose', 'Score': 0.40451991747794525},\n",
       "  {'Critic': 'Gene Seymour', 'Score': 0.20459830184114206}],\n",
       " 'Mick LaSalle': [{'Critic': 'Toby', 'Score': 0.9244734516419049},\n",
       "  {'Critic': 'Lisa Rose', 'Score': 0.5940885257860044},\n",
       "  {'Critic': 'Claudia Puig', 'Score': 0.5669467095138411}],\n",
       " 'Toby': [{'Critic': 'Lisa Rose', 'Score': 0.9912407071619299},\n",
       "  {'Critic': 'Mick LaSalle', 'Score': 0.9244734516419049},\n",
       "  {'Critic': 'Claudia Puig', 'Score': 0.8934051474415647}]}"
      ]
     },
     "execution_count": 16,
     "metadata": {},
     "output_type": "execute_result"
    }
   ],
   "source": [
    "top3_critics"
   ]
  },
  {
   "cell_type": "markdown",
   "metadata": {},
   "source": [
    "# Making recommendations "
   ]
  },
  {
   "cell_type": "markdown",
   "metadata": {},
   "source": [
    "### Recommending other critics"
   ]
  },
  {
   "cell_type": "code",
   "execution_count": 31,
   "metadata": {
    "collapsed": true
   },
   "outputs": [],
   "source": [
    "def recommend(critics,critic):\n",
    "    totals={}\n",
    "    sim_sums={}\n",
    "    for cr_iter in critics:\n",
    "        if cr_iter==critic:\n",
    "            continue\n",
    "        sim=pearson(critics,critic,cr_iter)\n",
    "        if sim<=0:\n",
    "            continue\n",
    "        for movie in critics[cr_iter]:\n",
    "            if movie not in critics[cr_iter] or critics[cr_iter][movie]==0:\n",
    "                print critics[cr_iter][movie]"
   ]
  },
  {
   "cell_type": "code",
   "execution_count": 32,
   "metadata": {
    "collapsed": false
   },
   "outputs": [],
   "source": [
    "recommend(critics,'Toby')"
   ]
  },
  {
   "cell_type": "code",
   "execution_count": null,
   "metadata": {
    "collapsed": true
   },
   "outputs": [],
   "source": []
  }
 ],
 "metadata": {
  "kernelspec": {
   "display_name": "Python 2",
   "language": "python",
   "name": "python2"
  },
  "language_info": {
   "codemirror_mode": {
    "name": "ipython",
    "version": 2
   },
   "file_extension": ".py",
   "mimetype": "text/x-python",
   "name": "python",
   "nbconvert_exporter": "python",
   "pygments_lexer": "ipython2",
   "version": "2.7.12"
  }
 },
 "nbformat": 4,
 "nbformat_minor": 1
}
