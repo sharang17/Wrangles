{
 "cells": [
  {
   "cell_type": "code",
   "execution_count": 1,
   "metadata": {
    "collapsed": true
   },
   "outputs": [],
   "source": [
    "import pandas as pd \n"
   ]
  },
  {
   "cell_type": "code",
   "execution_count": 2,
   "metadata": {
    "collapsed": true
   },
   "outputs": [],
   "source": [
    "events=pd.read_csv(\"Data/creativity.csv\")"
   ]
  },
  {
   "cell_type": "code",
   "execution_count": 3,
   "metadata": {
    "collapsed": false
   },
   "outputs": [
    {
     "data": {
      "text/html": [
       "<div>\n",
       "<table border=\"1\" class=\"dataframe\">\n",
       "  <thead>\n",
       "    <tr style=\"text-align: right;\">\n",
       "      <th></th>\n",
       "      <th>CSA2010</th>\n",
       "      <th>Population</th>\n",
       "      <th>Number of Businesses that are Arts-Related per 1,000 residents</th>\n",
       "      <th>Total Employment in Arts-Related Businesses</th>\n",
       "      <th>Number of Persons with Library Cards per 1,000 Residents</th>\n",
       "      <th>Rate of Businesses in the Creative Economy per 1,000 residents</th>\n",
       "      <th>Number of Employees in the Creative Economy</th>\n",
       "      <th>Public Art per 1,000 Residents</th>\n",
       "      <th>Number of Public Murals</th>\n",
       "      <th>Number of Event Permits Requested per 1,000 Residents</th>\n",
       "    </tr>\n",
       "  </thead>\n",
       "  <tbody>\n",
       "    <tr>\n",
       "      <th>0</th>\n",
       "      <td>Allendale/Irvington/S. Hilton</td>\n",
       "      <td>16217</td>\n",
       "      <td>0.0</td>\n",
       "      <td>0</td>\n",
       "      <td>318.6</td>\n",
       "      <td>0.1</td>\n",
       "      <td>1</td>\n",
       "      <td>1.0</td>\n",
       "      <td>3</td>\n",
       "      <td>0.2</td>\n",
       "    </tr>\n",
       "    <tr>\n",
       "      <th>1</th>\n",
       "      <td>Belair-Edison</td>\n",
       "      <td>17416</td>\n",
       "      <td>0.2</td>\n",
       "      <td>22</td>\n",
       "      <td>444.0</td>\n",
       "      <td>0.6</td>\n",
       "      <td>58</td>\n",
       "      <td>1.7</td>\n",
       "      <td>7</td>\n",
       "      <td>0.5</td>\n",
       "    </tr>\n",
       "    <tr>\n",
       "      <th>2</th>\n",
       "      <td>Brooklyn/Curtis Bay/Hawkins Point</td>\n",
       "      <td>14243</td>\n",
       "      <td>0.1</td>\n",
       "      <td>8</td>\n",
       "      <td>307.6</td>\n",
       "      <td>0.7</td>\n",
       "      <td>36</td>\n",
       "      <td>0.3</td>\n",
       "      <td>1</td>\n",
       "      <td>0.4</td>\n",
       "    </tr>\n",
       "    <tr>\n",
       "      <th>3</th>\n",
       "      <td>Canton</td>\n",
       "      <td>8100</td>\n",
       "      <td>0.6</td>\n",
       "      <td>6</td>\n",
       "      <td>284.3</td>\n",
       "      <td>2.6</td>\n",
       "      <td>162</td>\n",
       "      <td>0.2</td>\n",
       "      <td>0</td>\n",
       "      <td>3.5</td>\n",
       "    </tr>\n",
       "    <tr>\n",
       "      <th>4</th>\n",
       "      <td>Cedonia/Frankford</td>\n",
       "      <td>23557</td>\n",
       "      <td>0.3</td>\n",
       "      <td>13</td>\n",
       "      <td>305.5</td>\n",
       "      <td>0.5</td>\n",
       "      <td>25</td>\n",
       "      <td>0.1</td>\n",
       "      <td>0</td>\n",
       "      <td>0.2</td>\n",
       "    </tr>\n",
       "  </tbody>\n",
       "</table>\n",
       "</div>"
      ],
      "text/plain": [
       "                             CSA2010  Population\\n  \\\n",
       "0      Allendale/Irvington/S. Hilton         16217   \n",
       "1                      Belair-Edison         17416   \n",
       "2  Brooklyn/Curtis Bay/Hawkins Point         14243   \n",
       "3                             Canton          8100   \n",
       "4                  Cedonia/Frankford         23557   \n",
       "\n",
       "   Number of Businesses that are Arts-Related per 1,000 residents  \\\n",
       "0                                                0.0                \n",
       "1                                                0.2                \n",
       "2                                                0.1                \n",
       "3                                                0.6                \n",
       "4                                                0.3                \n",
       "\n",
       "   Total Employment in Arts-Related Businesses  \\\n",
       "0                                            0   \n",
       "1                                           22   \n",
       "2                                            8   \n",
       "3                                            6   \n",
       "4                                           13   \n",
       "\n",
       "   Number of Persons with Library Cards per 1,000 Residents  \\\n",
       "0                                              318.6          \n",
       "1                                              444.0          \n",
       "2                                              307.6          \n",
       "3                                              284.3          \n",
       "4                                              305.5          \n",
       "\n",
       "   Rate of Businesses in the Creative Economy per 1,000 residents  \\\n",
       "0                                                0.1                \n",
       "1                                                0.6                \n",
       "2                                                0.7                \n",
       "3                                                2.6                \n",
       "4                                                0.5                \n",
       "\n",
       "   Number of Employees in the Creative Economy  \\\n",
       "0                                            1   \n",
       "1                                           58   \n",
       "2                                           36   \n",
       "3                                          162   \n",
       "4                                           25   \n",
       "\n",
       "   Public Art per 1,000 Residents  Number of Public Murals  \\\n",
       "0                             1.0                        3   \n",
       "1                             1.7                        7   \n",
       "2                             0.3                        1   \n",
       "3                             0.2                        0   \n",
       "4                             0.1                        0   \n",
       "\n",
       "   Number of Event Permits Requested per 1,000 Residents  \n",
       "0                                                0.2      \n",
       "1                                                0.5      \n",
       "2                                                0.4      \n",
       "3                                                3.5      \n",
       "4                                                0.2      "
      ]
     },
     "execution_count": 3,
     "metadata": {},
     "output_type": "execute_result"
    }
   ],
   "source": [
    "events.head()"
   ]
  },
  {
   "cell_type": "code",
   "execution_count": 8,
   "metadata": {
    "collapsed": false
   },
   "outputs": [],
   "source": [
    "art=pd.DataFrame()\n",
    "art[\"Community\"]=events[\"CSA2010\"]\n",
    "art[\"Population\"]=events[\"Population\\n\"]\n",
    "art[\"Business_Art\"]=events[\"Number of Businesses that are Arts-Related per 1,000 residents\"]\n",
    "#art[\"Art_Employments\"]=events[\"Total Employment in Arts-Related Businesses\"]\n",
    "art[\"Rate of Business\"]=events[\"Rate of Businesses in the Creative Economy per 1,000 residents\"]\n",
    "art[\"Employees_creative\"]=events[\"Number of Employees in the Creative Economy\"]\n"
   ]
  },
  {
   "cell_type": "code",
   "execution_count": 9,
   "metadata": {
    "collapsed": false
   },
   "outputs": [
    {
     "data": {
      "text/html": [
       "<div>\n",
       "<table border=\"1\" class=\"dataframe\">\n",
       "  <thead>\n",
       "    <tr style=\"text-align: right;\">\n",
       "      <th></th>\n",
       "      <th>Community</th>\n",
       "      <th>Population</th>\n",
       "      <th>Business_Art</th>\n",
       "      <th>Rate of Business</th>\n",
       "      <th>Employees_creative</th>\n",
       "    </tr>\n",
       "  </thead>\n",
       "  <tbody>\n",
       "    <tr>\n",
       "      <th>0</th>\n",
       "      <td>Allendale/Irvington/S. Hilton</td>\n",
       "      <td>16217</td>\n",
       "      <td>0.0</td>\n",
       "      <td>0.1</td>\n",
       "      <td>1</td>\n",
       "    </tr>\n",
       "    <tr>\n",
       "      <th>1</th>\n",
       "      <td>Belair-Edison</td>\n",
       "      <td>17416</td>\n",
       "      <td>0.2</td>\n",
       "      <td>0.6</td>\n",
       "      <td>58</td>\n",
       "    </tr>\n",
       "    <tr>\n",
       "      <th>2</th>\n",
       "      <td>Brooklyn/Curtis Bay/Hawkins Point</td>\n",
       "      <td>14243</td>\n",
       "      <td>0.1</td>\n",
       "      <td>0.7</td>\n",
       "      <td>36</td>\n",
       "    </tr>\n",
       "    <tr>\n",
       "      <th>3</th>\n",
       "      <td>Canton</td>\n",
       "      <td>8100</td>\n",
       "      <td>0.6</td>\n",
       "      <td>2.6</td>\n",
       "      <td>162</td>\n",
       "    </tr>\n",
       "    <tr>\n",
       "      <th>4</th>\n",
       "      <td>Cedonia/Frankford</td>\n",
       "      <td>23557</td>\n",
       "      <td>0.3</td>\n",
       "      <td>0.5</td>\n",
       "      <td>25</td>\n",
       "    </tr>\n",
       "  </tbody>\n",
       "</table>\n",
       "</div>"
      ],
      "text/plain": [
       "                           Community  Population  Business_Art  \\\n",
       "0      Allendale/Irvington/S. Hilton       16217           0.0   \n",
       "1                      Belair-Edison       17416           0.2   \n",
       "2  Brooklyn/Curtis Bay/Hawkins Point       14243           0.1   \n",
       "3                             Canton        8100           0.6   \n",
       "4                  Cedonia/Frankford       23557           0.3   \n",
       "\n",
       "   Rate of Business  Employees_creative  \n",
       "0               0.1                   1  \n",
       "1               0.6                  58  \n",
       "2               0.7                  36  \n",
       "3               2.6                 162  \n",
       "4               0.5                  25  "
      ]
     },
     "execution_count": 9,
     "metadata": {},
     "output_type": "execute_result"
    }
   ],
   "source": [
    "art.head()"
   ]
  },
  {
   "cell_type": "code",
   "execution_count": 14,
   "metadata": {
    "collapsed": true
   },
   "outputs": [],
   "source": [
    "art[\"Creative Population\"]=(art[\"Employees_creative\"]/art[\"Population\"])*100"
   ]
  },
  {
   "cell_type": "code",
   "execution_count": 15,
   "metadata": {
    "collapsed": false
   },
   "outputs": [
    {
     "data": {
      "text/html": [
       "<div>\n",
       "<table border=\"1\" class=\"dataframe\">\n",
       "  <thead>\n",
       "    <tr style=\"text-align: right;\">\n",
       "      <th></th>\n",
       "      <th>Community</th>\n",
       "      <th>Population</th>\n",
       "      <th>Business_Art</th>\n",
       "      <th>Rate of Business</th>\n",
       "      <th>Employees_creative</th>\n",
       "      <th>Creative Population</th>\n",
       "    </tr>\n",
       "  </thead>\n",
       "  <tbody>\n",
       "    <tr>\n",
       "      <th>0</th>\n",
       "      <td>Allendale/Irvington/S. Hilton</td>\n",
       "      <td>16217</td>\n",
       "      <td>0.0</td>\n",
       "      <td>0.1</td>\n",
       "      <td>1</td>\n",
       "      <td>0.006166</td>\n",
       "    </tr>\n",
       "    <tr>\n",
       "      <th>1</th>\n",
       "      <td>Belair-Edison</td>\n",
       "      <td>17416</td>\n",
       "      <td>0.2</td>\n",
       "      <td>0.6</td>\n",
       "      <td>58</td>\n",
       "      <td>0.333027</td>\n",
       "    </tr>\n",
       "    <tr>\n",
       "      <th>2</th>\n",
       "      <td>Brooklyn/Curtis Bay/Hawkins Point</td>\n",
       "      <td>14243</td>\n",
       "      <td>0.1</td>\n",
       "      <td>0.7</td>\n",
       "      <td>36</td>\n",
       "      <td>0.252756</td>\n",
       "    </tr>\n",
       "    <tr>\n",
       "      <th>3</th>\n",
       "      <td>Canton</td>\n",
       "      <td>8100</td>\n",
       "      <td>0.6</td>\n",
       "      <td>2.6</td>\n",
       "      <td>162</td>\n",
       "      <td>2.000000</td>\n",
       "    </tr>\n",
       "    <tr>\n",
       "      <th>4</th>\n",
       "      <td>Cedonia/Frankford</td>\n",
       "      <td>23557</td>\n",
       "      <td>0.3</td>\n",
       "      <td>0.5</td>\n",
       "      <td>25</td>\n",
       "      <td>0.106126</td>\n",
       "    </tr>\n",
       "  </tbody>\n",
       "</table>\n",
       "</div>"
      ],
      "text/plain": [
       "                           Community  Population  Business_Art  \\\n",
       "0      Allendale/Irvington/S. Hilton       16217           0.0   \n",
       "1                      Belair-Edison       17416           0.2   \n",
       "2  Brooklyn/Curtis Bay/Hawkins Point       14243           0.1   \n",
       "3                             Canton        8100           0.6   \n",
       "4                  Cedonia/Frankford       23557           0.3   \n",
       "\n",
       "   Rate of Business  Employees_creative  Creative Population  \n",
       "0               0.1                   1             0.006166  \n",
       "1               0.6                  58             0.333027  \n",
       "2               0.7                  36             0.252756  \n",
       "3               2.6                 162             2.000000  \n",
       "4               0.5                  25             0.106126  "
      ]
     },
     "execution_count": 15,
     "metadata": {},
     "output_type": "execute_result"
    }
   ],
   "source": [
    "art.head()"
   ]
  },
  {
   "cell_type": "code",
   "execution_count": 16,
   "metadata": {
    "collapsed": true
   },
   "outputs": [],
   "source": [
    "art[\"Creative Score\"]=art[\"Creative Population\"]*art[\"Business_Art\"]"
   ]
  },
  {
   "cell_type": "code",
   "execution_count": 17,
   "metadata": {
    "collapsed": false
   },
   "outputs": [
    {
     "data": {
      "text/html": [
       "<div>\n",
       "<table border=\"1\" class=\"dataframe\">\n",
       "  <thead>\n",
       "    <tr style=\"text-align: right;\">\n",
       "      <th></th>\n",
       "      <th>Community</th>\n",
       "      <th>Population</th>\n",
       "      <th>Business_Art</th>\n",
       "      <th>Rate of Business</th>\n",
       "      <th>Employees_creative</th>\n",
       "      <th>Creative Population</th>\n",
       "      <th>Creative Score</th>\n",
       "    </tr>\n",
       "  </thead>\n",
       "  <tbody>\n",
       "    <tr>\n",
       "      <th>0</th>\n",
       "      <td>Allendale/Irvington/S. Hilton</td>\n",
       "      <td>16217</td>\n",
       "      <td>0.0</td>\n",
       "      <td>0.1</td>\n",
       "      <td>1</td>\n",
       "      <td>0.006166</td>\n",
       "      <td>0.000000</td>\n",
       "    </tr>\n",
       "    <tr>\n",
       "      <th>1</th>\n",
       "      <td>Belair-Edison</td>\n",
       "      <td>17416</td>\n",
       "      <td>0.2</td>\n",
       "      <td>0.6</td>\n",
       "      <td>58</td>\n",
       "      <td>0.333027</td>\n",
       "      <td>0.066605</td>\n",
       "    </tr>\n",
       "    <tr>\n",
       "      <th>2</th>\n",
       "      <td>Brooklyn/Curtis Bay/Hawkins Point</td>\n",
       "      <td>14243</td>\n",
       "      <td>0.1</td>\n",
       "      <td>0.7</td>\n",
       "      <td>36</td>\n",
       "      <td>0.252756</td>\n",
       "      <td>0.025276</td>\n",
       "    </tr>\n",
       "    <tr>\n",
       "      <th>3</th>\n",
       "      <td>Canton</td>\n",
       "      <td>8100</td>\n",
       "      <td>0.6</td>\n",
       "      <td>2.6</td>\n",
       "      <td>162</td>\n",
       "      <td>2.000000</td>\n",
       "      <td>1.200000</td>\n",
       "    </tr>\n",
       "    <tr>\n",
       "      <th>4</th>\n",
       "      <td>Cedonia/Frankford</td>\n",
       "      <td>23557</td>\n",
       "      <td>0.3</td>\n",
       "      <td>0.5</td>\n",
       "      <td>25</td>\n",
       "      <td>0.106126</td>\n",
       "      <td>0.031838</td>\n",
       "    </tr>\n",
       "  </tbody>\n",
       "</table>\n",
       "</div>"
      ],
      "text/plain": [
       "                           Community  Population  Business_Art  \\\n",
       "0      Allendale/Irvington/S. Hilton       16217           0.0   \n",
       "1                      Belair-Edison       17416           0.2   \n",
       "2  Brooklyn/Curtis Bay/Hawkins Point       14243           0.1   \n",
       "3                             Canton        8100           0.6   \n",
       "4                  Cedonia/Frankford       23557           0.3   \n",
       "\n",
       "   Rate of Business  Employees_creative  Creative Population  Creative Score  \n",
       "0               0.1                   1             0.006166        0.000000  \n",
       "1               0.6                  58             0.333027        0.066605  \n",
       "2               0.7                  36             0.252756        0.025276  \n",
       "3               2.6                 162             2.000000        1.200000  \n",
       "4               0.5                  25             0.106126        0.031838  "
      ]
     },
     "execution_count": 17,
     "metadata": {},
     "output_type": "execute_result"
    }
   ],
   "source": [
    "art.head()"
   ]
  },
  {
   "cell_type": "code",
   "execution_count": 30,
   "metadata": {
    "collapsed": true
   },
   "outputs": [],
   "source": [
    "art_score=art.sort_values(ascending=False,by=\"Creative Score\")\n",
    "art_full=art_score"
   ]
  },
  {
   "cell_type": "code",
   "execution_count": 20,
   "metadata": {
    "collapsed": false
   },
   "outputs": [],
   "source": [
    "art_score=art_score.head(10)"
   ]
  },
  {
   "cell_type": "code",
   "execution_count": 21,
   "metadata": {
    "collapsed": true
   },
   "outputs": [],
   "source": [
    "art_score.to_csv(\"creative_rankings.csv\")"
   ]
  },
  {
   "cell_type": "code",
   "execution_count": 22,
   "metadata": {
    "collapsed": false
   },
   "outputs": [
    {
     "data": {
      "text/html": [
       "<div>\n",
       "<table border=\"1\" class=\"dataframe\">\n",
       "  <thead>\n",
       "    <tr style=\"text-align: right;\">\n",
       "      <th></th>\n",
       "      <th>Community</th>\n",
       "      <th>Population</th>\n",
       "      <th>Business_Art</th>\n",
       "      <th>Rate of Business</th>\n",
       "      <th>Employees_creative</th>\n",
       "      <th>Creative Population</th>\n",
       "      <th>Creative Score</th>\n",
       "    </tr>\n",
       "  </thead>\n",
       "  <tbody>\n",
       "    <tr>\n",
       "      <th>12</th>\n",
       "      <td>Downtown/Seton Hill</td>\n",
       "      <td>6446</td>\n",
       "      <td>8.4</td>\n",
       "      <td>18.9</td>\n",
       "      <td>1467</td>\n",
       "      <td>22.758300</td>\n",
       "      <td>191.169718</td>\n",
       "    </tr>\n",
       "    <tr>\n",
       "      <th>33</th>\n",
       "      <td>Midtown</td>\n",
       "      <td>15020</td>\n",
       "      <td>3.3</td>\n",
       "      <td>7.2</td>\n",
       "      <td>1952</td>\n",
       "      <td>12.996005</td>\n",
       "      <td>42.886818</td>\n",
       "    </tr>\n",
       "    <tr>\n",
       "      <th>28</th>\n",
       "      <td>Inner Harbor/Federal Hill</td>\n",
       "      <td>12855</td>\n",
       "      <td>2.1</td>\n",
       "      <td>5.3</td>\n",
       "      <td>1826</td>\n",
       "      <td>14.204590</td>\n",
       "      <td>29.829638</td>\n",
       "    </tr>\n",
       "    <tr>\n",
       "      <th>32</th>\n",
       "      <td>Medfield/Hampden/Woodberry/Remington</td>\n",
       "      <td>17388</td>\n",
       "      <td>2.4</td>\n",
       "      <td>7.1</td>\n",
       "      <td>1431</td>\n",
       "      <td>8.229814</td>\n",
       "      <td>19.751553</td>\n",
       "    </tr>\n",
       "    <tr>\n",
       "      <th>24</th>\n",
       "      <td>Harbor East/Little Italy</td>\n",
       "      <td>5407</td>\n",
       "      <td>2.4</td>\n",
       "      <td>5.9</td>\n",
       "      <td>343</td>\n",
       "      <td>6.343629</td>\n",
       "      <td>15.224709</td>\n",
       "    </tr>\n",
       "    <tr>\n",
       "      <th>14</th>\n",
       "      <td>Fells Point</td>\n",
       "      <td>9039</td>\n",
       "      <td>1.5</td>\n",
       "      <td>4.4</td>\n",
       "      <td>733</td>\n",
       "      <td>8.109304</td>\n",
       "      <td>12.163956</td>\n",
       "    </tr>\n",
       "    <tr>\n",
       "      <th>46</th>\n",
       "      <td>South Baltimore</td>\n",
       "      <td>6406</td>\n",
       "      <td>0.6</td>\n",
       "      <td>1.9</td>\n",
       "      <td>853</td>\n",
       "      <td>13.315642</td>\n",
       "      <td>7.989385</td>\n",
       "    </tr>\n",
       "    <tr>\n",
       "      <th>52</th>\n",
       "      <td>Washington Village/Pigtown</td>\n",
       "      <td>5503</td>\n",
       "      <td>1.3</td>\n",
       "      <td>2.9</td>\n",
       "      <td>337</td>\n",
       "      <td>6.123932</td>\n",
       "      <td>7.961112</td>\n",
       "    </tr>\n",
       "    <tr>\n",
       "      <th>17</th>\n",
       "      <td>Greater Charles Village/Barclay</td>\n",
       "      <td>16391</td>\n",
       "      <td>1.6</td>\n",
       "      <td>3.4</td>\n",
       "      <td>707</td>\n",
       "      <td>4.313343</td>\n",
       "      <td>6.901348</td>\n",
       "    </tr>\n",
       "    <tr>\n",
       "      <th>47</th>\n",
       "      <td>Southeastern</td>\n",
       "      <td>6260</td>\n",
       "      <td>0.5</td>\n",
       "      <td>2.2</td>\n",
       "      <td>278</td>\n",
       "      <td>4.440895</td>\n",
       "      <td>2.220447</td>\n",
       "    </tr>\n",
       "  </tbody>\n",
       "</table>\n",
       "</div>"
      ],
      "text/plain": [
       "                               Community  Population  Business_Art  \\\n",
       "12                   Downtown/Seton Hill        6446           8.4   \n",
       "33                               Midtown       15020           3.3   \n",
       "28             Inner Harbor/Federal Hill       12855           2.1   \n",
       "32  Medfield/Hampden/Woodberry/Remington       17388           2.4   \n",
       "24              Harbor East/Little Italy        5407           2.4   \n",
       "14                           Fells Point        9039           1.5   \n",
       "46                       South Baltimore        6406           0.6   \n",
       "52            Washington Village/Pigtown        5503           1.3   \n",
       "17       Greater Charles Village/Barclay       16391           1.6   \n",
       "47                          Southeastern        6260           0.5   \n",
       "\n",
       "    Rate of Business  Employees_creative  Creative Population  Creative Score  \n",
       "12              18.9                1467            22.758300      191.169718  \n",
       "33               7.2                1952            12.996005       42.886818  \n",
       "28               5.3                1826            14.204590       29.829638  \n",
       "32               7.1                1431             8.229814       19.751553  \n",
       "24               5.9                 343             6.343629       15.224709  \n",
       "14               4.4                 733             8.109304       12.163956  \n",
       "46               1.9                 853            13.315642        7.989385  \n",
       "52               2.9                 337             6.123932        7.961112  \n",
       "17               3.4                 707             4.313343        6.901348  \n",
       "47               2.2                 278             4.440895        2.220447  "
      ]
     },
     "execution_count": 22,
     "metadata": {},
     "output_type": "execute_result"
    }
   ],
   "source": [
    "art_score"
   ]
  },
  {
   "cell_type": "code",
   "execution_count": 23,
   "metadata": {
    "collapsed": true
   },
   "outputs": [],
   "source": [
    "art_score_final=pd.DataFrame()"
   ]
  },
  {
   "cell_type": "code",
   "execution_count": 24,
   "metadata": {
    "collapsed": true
   },
   "outputs": [],
   "source": [
    "art_score_final[\"Community\"]=art_score[\"Community\"]\n",
    "art_score_final[\"Creative Score\"]=art_score[\"Creative Score\"]"
   ]
  },
  {
   "cell_type": "code",
   "execution_count": 25,
   "metadata": {
    "collapsed": false
   },
   "outputs": [
    {
     "data": {
      "text/html": [
       "<div>\n",
       "<table border=\"1\" class=\"dataframe\">\n",
       "  <thead>\n",
       "    <tr style=\"text-align: right;\">\n",
       "      <th></th>\n",
       "      <th>Community</th>\n",
       "      <th>Creative Score</th>\n",
       "    </tr>\n",
       "  </thead>\n",
       "  <tbody>\n",
       "    <tr>\n",
       "      <th>12</th>\n",
       "      <td>Downtown/Seton Hill</td>\n",
       "      <td>191.169718</td>\n",
       "    </tr>\n",
       "    <tr>\n",
       "      <th>33</th>\n",
       "      <td>Midtown</td>\n",
       "      <td>42.886818</td>\n",
       "    </tr>\n",
       "    <tr>\n",
       "      <th>28</th>\n",
       "      <td>Inner Harbor/Federal Hill</td>\n",
       "      <td>29.829638</td>\n",
       "    </tr>\n",
       "    <tr>\n",
       "      <th>32</th>\n",
       "      <td>Medfield/Hampden/Woodberry/Remington</td>\n",
       "      <td>19.751553</td>\n",
       "    </tr>\n",
       "    <tr>\n",
       "      <th>24</th>\n",
       "      <td>Harbor East/Little Italy</td>\n",
       "      <td>15.224709</td>\n",
       "    </tr>\n",
       "    <tr>\n",
       "      <th>14</th>\n",
       "      <td>Fells Point</td>\n",
       "      <td>12.163956</td>\n",
       "    </tr>\n",
       "    <tr>\n",
       "      <th>46</th>\n",
       "      <td>South Baltimore</td>\n",
       "      <td>7.989385</td>\n",
       "    </tr>\n",
       "    <tr>\n",
       "      <th>52</th>\n",
       "      <td>Washington Village/Pigtown</td>\n",
       "      <td>7.961112</td>\n",
       "    </tr>\n",
       "    <tr>\n",
       "      <th>17</th>\n",
       "      <td>Greater Charles Village/Barclay</td>\n",
       "      <td>6.901348</td>\n",
       "    </tr>\n",
       "    <tr>\n",
       "      <th>47</th>\n",
       "      <td>Southeastern</td>\n",
       "      <td>2.220447</td>\n",
       "    </tr>\n",
       "  </tbody>\n",
       "</table>\n",
       "</div>"
      ],
      "text/plain": [
       "                               Community  Creative Score\n",
       "12                   Downtown/Seton Hill      191.169718\n",
       "33                               Midtown       42.886818\n",
       "28             Inner Harbor/Federal Hill       29.829638\n",
       "32  Medfield/Hampden/Woodberry/Remington       19.751553\n",
       "24              Harbor East/Little Italy       15.224709\n",
       "14                           Fells Point       12.163956\n",
       "46                       South Baltimore        7.989385\n",
       "52            Washington Village/Pigtown        7.961112\n",
       "17       Greater Charles Village/Barclay        6.901348\n",
       "47                          Southeastern        2.220447"
      ]
     },
     "execution_count": 25,
     "metadata": {},
     "output_type": "execute_result"
    }
   ],
   "source": [
    "art_score_final"
   ]
  },
  {
   "cell_type": "code",
   "execution_count": 28,
   "metadata": {
    "collapsed": true
   },
   "outputs": [],
   "source": [
    "art_rankings=pd.read_csv(\"art_rankings.csv\")"
   ]
  },
  {
   "cell_type": "code",
   "execution_count": 29,
   "metadata": {
    "collapsed": false
   },
   "outputs": [
    {
     "data": {
      "text/html": [
       "<div>\n",
       "<table border=\"1\" class=\"dataframe\">\n",
       "  <thead>\n",
       "    <tr style=\"text-align: right;\">\n",
       "      <th></th>\n",
       "      <th>Unnamed: 0</th>\n",
       "      <th>Community</th>\n",
       "      <th>Art Score</th>\n",
       "      <th>Crime</th>\n",
       "      <th>Population 19-24</th>\n",
       "      <th>Population 25-64</th>\n",
       "      <th>Income</th>\n",
       "    </tr>\n",
       "  </thead>\n",
       "  <tbody>\n",
       "    <tr>\n",
       "      <th>0</th>\n",
       "      <td>54</td>\n",
       "      <td>Downtown/Seton Hill</td>\n",
       "      <td>38.312207</td>\n",
       "      <td>243.3</td>\n",
       "      <td>20.6</td>\n",
       "      <td>67.6</td>\n",
       "      <td>44,819.40</td>\n",
       "    </tr>\n",
       "    <tr>\n",
       "      <th>1</th>\n",
       "      <td>42</td>\n",
       "      <td>Inner Harbor/Federal Hill</td>\n",
       "      <td>13.312217</td>\n",
       "      <td>79.3</td>\n",
       "      <td>13.3</td>\n",
       "      <td>66.6</td>\n",
       "      <td>88,854.21</td>\n",
       "    </tr>\n",
       "    <tr>\n",
       "      <th>2</th>\n",
       "      <td>49</td>\n",
       "      <td>Midtown</td>\n",
       "      <td>8.788034</td>\n",
       "      <td>84.2</td>\n",
       "      <td>22.6</td>\n",
       "      <td>58.7</td>\n",
       "      <td>38,866.80</td>\n",
       "    </tr>\n",
       "    <tr>\n",
       "      <th>3</th>\n",
       "      <td>52</td>\n",
       "      <td>Washington Village/Pigtown</td>\n",
       "      <td>6.869644</td>\n",
       "      <td>139.4</td>\n",
       "      <td>11.3</td>\n",
       "      <td>59.5</td>\n",
       "      <td>48,175.04</td>\n",
       "    </tr>\n",
       "    <tr>\n",
       "      <th>4</th>\n",
       "      <td>53</td>\n",
       "      <td>Harbor East/Little Italy</td>\n",
       "      <td>4.745294</td>\n",
       "      <td>159.4</td>\n",
       "      <td>9.8</td>\n",
       "      <td>59.6</td>\n",
       "      <td>36,578.63</td>\n",
       "    </tr>\n",
       "  </tbody>\n",
       "</table>\n",
       "</div>"
      ],
      "text/plain": [
       "   Unnamed: 0                   Community  Art Score  Crime  Population 19-24  \\\n",
       "0          54         Downtown/Seton Hill  38.312207  243.3              20.6   \n",
       "1          42   Inner Harbor/Federal Hill  13.312217   79.3              13.3   \n",
       "2          49                     Midtown   8.788034   84.2              22.6   \n",
       "3          52  Washington Village/Pigtown   6.869644  139.4              11.3   \n",
       "4          53    Harbor East/Little Italy   4.745294  159.4               9.8   \n",
       "\n",
       "   Population 25-64     Income  \n",
       "0              67.6  44,819.40  \n",
       "1              66.6  88,854.21  \n",
       "2              58.7  38,866.80  \n",
       "3              59.5  48,175.04  \n",
       "4              59.6  36,578.63  "
      ]
     },
     "execution_count": 29,
     "metadata": {},
     "output_type": "execute_result"
    }
   ],
   "source": [
    "art_rankings.head()"
   ]
  },
  {
   "cell_type": "code",
   "execution_count": 31,
   "metadata": {
    "collapsed": true
   },
   "outputs": [],
   "source": [
    "art_creative=pd.merge(left=art_full,right=art_rankings,on=\"Community\")"
   ]
  },
  {
   "cell_type": "code",
   "execution_count": 33,
   "metadata": {
    "collapsed": false
   },
   "outputs": [],
   "source": [
    "art_creative_rankings=pd.DataFrame()\n",
    "art_creative_rankings[\"Community\"]=art_creative[\"Community\"]\n",
    "art_creative_rankings[\"Art Score\"]=art_creative[\"Art Score\"]\n",
    "art_creative_rankings[\"Creative Score\"]=art_creative[\"Creative Population\"]"
   ]
  },
  {
   "cell_type": "code",
   "execution_count": 34,
   "metadata": {
    "collapsed": false
   },
   "outputs": [
    {
     "data": {
      "text/html": [
       "<div>\n",
       "<table border=\"1\" class=\"dataframe\">\n",
       "  <thead>\n",
       "    <tr style=\"text-align: right;\">\n",
       "      <th></th>\n",
       "      <th>Community</th>\n",
       "      <th>Art Score</th>\n",
       "      <th>Creative Score</th>\n",
       "    </tr>\n",
       "  </thead>\n",
       "  <tbody>\n",
       "    <tr>\n",
       "      <th>0</th>\n",
       "      <td>Downtown/Seton Hill</td>\n",
       "      <td>38.312207</td>\n",
       "      <td>22.758300</td>\n",
       "    </tr>\n",
       "    <tr>\n",
       "      <th>1</th>\n",
       "      <td>Midtown</td>\n",
       "      <td>8.788034</td>\n",
       "      <td>12.996005</td>\n",
       "    </tr>\n",
       "    <tr>\n",
       "      <th>2</th>\n",
       "      <td>Inner Harbor/Federal Hill</td>\n",
       "      <td>13.312217</td>\n",
       "      <td>14.204590</td>\n",
       "    </tr>\n",
       "    <tr>\n",
       "      <th>3</th>\n",
       "      <td>Medfield/Hampden/Woodberry/Remington</td>\n",
       "      <td>4.036008</td>\n",
       "      <td>8.229814</td>\n",
       "    </tr>\n",
       "    <tr>\n",
       "      <th>4</th>\n",
       "      <td>Harbor East/Little Italy</td>\n",
       "      <td>4.745294</td>\n",
       "      <td>6.343629</td>\n",
       "    </tr>\n",
       "  </tbody>\n",
       "</table>\n",
       "</div>"
      ],
      "text/plain": [
       "                              Community  Art Score  Creative Score\n",
       "0                   Downtown/Seton Hill  38.312207       22.758300\n",
       "1                               Midtown   8.788034       12.996005\n",
       "2             Inner Harbor/Federal Hill  13.312217       14.204590\n",
       "3  Medfield/Hampden/Woodberry/Remington   4.036008        8.229814\n",
       "4              Harbor East/Little Italy   4.745294        6.343629"
      ]
     },
     "execution_count": 34,
     "metadata": {},
     "output_type": "execute_result"
    }
   ],
   "source": [
    "art_creative_rankings.head()"
   ]
  },
  {
   "cell_type": "code",
   "execution_count": 46,
   "metadata": {
    "collapsed": false
   },
   "outputs": [],
   "source": [
    "artz=art_creative_rankings[\"Art Score\"].tolist()\n",
    "cz=art_creative_rankings[\"Creative Score\"].tolist()\n",
    "art_mean=art_creative_rankings[\"Art Score\"].mean()\n",
    "art_std=art_creative_rankings[\"Art Score\"].std()\n",
    "c_mean=art_creative_rankings[\"Creative Score\"].mean()\n",
    "c_std=art_creative_rankings[\"Creative Score\"].std()\n",
    "\n",
    "#art_creative_rankings[\"Art Z Score\"]=pd.Series([])"
   ]
  },
  {
   "cell_type": "code",
   "execution_count": 47,
   "metadata": {
    "collapsed": false
   },
   "outputs": [],
   "source": [
    "artz_score=[(x-art_mean)/art_std for x in artz]\n",
    "cz_score=[(x-c_mean)/c_std for x in cz]"
   ]
  },
  {
   "cell_type": "code",
   "execution_count": 48,
   "metadata": {
    "collapsed": true
   },
   "outputs": [],
   "source": [
    "art_creative_rankings[\"Art Z Score\"]=pd.Series(artz_score)\n",
    "art_creative_rankings[\"Creative Z Score\"]=pd.Series(cz_score)"
   ]
  },
  {
   "cell_type": "code",
   "execution_count": 50,
   "metadata": {
    "collapsed": false
   },
   "outputs": [],
   "source": [
    "art_creative_rankings[\"Total Score\"]=art_creative_rankings[\"Art Z Score\"]+art_creative_rankings[\"Creative Z Score\"]"
   ]
  },
  {
   "cell_type": "code",
   "execution_count": 52,
   "metadata": {
    "collapsed": false
   },
   "outputs": [],
   "source": [
    "art_creative_ranked=art_creative_rankings.sort_values(ascending=False,by=\"Total Score\")"
   ]
  },
  {
   "cell_type": "code",
   "execution_count": 55,
   "metadata": {
    "collapsed": false
   },
   "outputs": [],
   "source": [
    "art_creative_ranked.to_csv(\"Creative+Art Rankings.csv\")"
   ]
  },
  {
   "cell_type": "code",
   "execution_count": 58,
   "metadata": {
    "collapsed": false
   },
   "outputs": [],
   "source": [
    "art_ranks=pd.DataFrame()"
   ]
  },
  {
   "cell_type": "code",
   "execution_count": 59,
   "metadata": {
    "collapsed": true
   },
   "outputs": [],
   "source": [
    "art_ranks[\"Community\"]=art_creative_ranked[\"Community\"]\n",
    "art_ranks[\"Total Score\"]=art_creative_ranked[\"Total Score\"]"
   ]
  },
  {
   "cell_type": "code",
   "execution_count": 62,
   "metadata": {
    "collapsed": false
   },
   "outputs": [
    {
     "data": {
      "text/html": [
       "<div>\n",
       "<table border=\"1\" class=\"dataframe\">\n",
       "  <thead>\n",
       "    <tr style=\"text-align: right;\">\n",
       "      <th></th>\n",
       "      <th>Community</th>\n",
       "      <th>Total Score</th>\n",
       "    </tr>\n",
       "  </thead>\n",
       "  <tbody>\n",
       "    <tr>\n",
       "      <th>0</th>\n",
       "      <td>Downtown/Seton Hill</td>\n",
       "      <td>10.753992</td>\n",
       "    </tr>\n",
       "    <tr>\n",
       "      <th>2</th>\n",
       "      <td>Inner Harbor/Federal Hill</td>\n",
       "      <td>4.817525</td>\n",
       "    </tr>\n",
       "    <tr>\n",
       "      <th>1</th>\n",
       "      <td>Midtown</td>\n",
       "      <td>3.819838</td>\n",
       "    </tr>\n",
       "    <tr>\n",
       "      <th>6</th>\n",
       "      <td>South Baltimore</td>\n",
       "      <td>2.724911</td>\n",
       "    </tr>\n",
       "    <tr>\n",
       "      <th>3</th>\n",
       "      <td>Medfield/Hampden/Woodberry/Remington</td>\n",
       "      <td>1.982407</td>\n",
       "    </tr>\n",
       "    <tr>\n",
       "      <th>7</th>\n",
       "      <td>Washington Village/Pigtown</td>\n",
       "      <td>1.960907</td>\n",
       "    </tr>\n",
       "    <tr>\n",
       "      <th>5</th>\n",
       "      <td>Fells Point</td>\n",
       "      <td>1.903663</td>\n",
       "    </tr>\n",
       "    <tr>\n",
       "      <th>4</th>\n",
       "      <td>Harbor East/Little Italy</td>\n",
       "      <td>1.670173</td>\n",
       "    </tr>\n",
       "    <tr>\n",
       "      <th>8</th>\n",
       "      <td>Greater Charles Village/Barclay</td>\n",
       "      <td>1.039396</td>\n",
       "    </tr>\n",
       "    <tr>\n",
       "      <th>14</th>\n",
       "      <td>Oldtown/Middle East</td>\n",
       "      <td>0.291340</td>\n",
       "    </tr>\n",
       "  </tbody>\n",
       "</table>\n",
       "</div>"
      ],
      "text/plain": [
       "                               Community  Total Score\n",
       "0                    Downtown/Seton Hill    10.753992\n",
       "2              Inner Harbor/Federal Hill     4.817525\n",
       "1                                Midtown     3.819838\n",
       "6                        South Baltimore     2.724911\n",
       "3   Medfield/Hampden/Woodberry/Remington     1.982407\n",
       "7             Washington Village/Pigtown     1.960907\n",
       "5                            Fells Point     1.903663\n",
       "4               Harbor East/Little Italy     1.670173\n",
       "8        Greater Charles Village/Barclay     1.039396\n",
       "14                   Oldtown/Middle East     0.291340"
      ]
     },
     "execution_count": 62,
     "metadata": {},
     "output_type": "execute_result"
    }
   ],
   "source": [
    "art_ranks.head(10)"
   ]
  },
  {
   "cell_type": "code",
   "execution_count": null,
   "metadata": {
    "collapsed": true
   },
   "outputs": [],
   "source": []
  }
 ],
 "metadata": {
  "kernelspec": {
   "display_name": "Python 2",
   "language": "python",
   "name": "python2"
  },
  "language_info": {
   "codemirror_mode": {
    "name": "ipython",
    "version": 2
   },
   "file_extension": ".py",
   "mimetype": "text/x-python",
   "name": "python",
   "nbconvert_exporter": "python",
   "pygments_lexer": "ipython2",
   "version": "2.7.12"
  }
 },
 "nbformat": 4,
 "nbformat_minor": 1
}
