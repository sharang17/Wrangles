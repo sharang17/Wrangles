{
 "cells": [
  {
   "cell_type": "code",
   "execution_count": 1,
   "metadata": {
    "collapsed": true
   },
   "outputs": [],
   "source": [
    "import pandas as pd"
   ]
  },
  {
   "cell_type": "code",
   "execution_count": 4,
   "metadata": {
    "collapsed": false
   },
   "outputs": [],
   "source": [
    "crime_data=pd.read_csv(\"Data/Crime_by_Neighborhood.csv\")"
   ]
  },
  {
   "cell_type": "code",
   "execution_count": 11,
   "metadata": {
    "collapsed": false
   },
   "outputs": [],
   "source": [
    "crime_data.head(n=5)\n",
    "crime_data = crime_data[crime_data.Community != \"Baltimore City\"]"
   ]
  },
  {
   "cell_type": "code",
   "execution_count": 12,
   "metadata": {
    "collapsed": false
   },
   "outputs": [],
   "source": [
    "crime_sorted=crime_data.sort_values(by=\"2014 Data\",)"
   ]
  },
  {
   "cell_type": "code",
   "execution_count": 13,
   "metadata": {
    "collapsed": false
   },
   "outputs": [
    {
     "data": {
      "text/html": [
       "<div>\n",
       "<table border=\"1\" class=\"dataframe\">\n",
       "  <thead>\n",
       "    <tr style=\"text-align: right;\">\n",
       "      <th></th>\n",
       "      <th>Community</th>\n",
       "      <th>2014 Data</th>\n",
       "    </tr>\n",
       "  </thead>\n",
       "  <tbody>\n",
       "    <tr>\n",
       "      <th>11</th>\n",
       "      <td>Cross-Country/Cheswolde</td>\n",
       "      <td>14.6</td>\n",
       "    </tr>\n",
       "    <tr>\n",
       "      <th>22</th>\n",
       "      <td>Greater Roland Park/Poplar Hill</td>\n",
       "      <td>28.2</td>\n",
       "    </tr>\n",
       "    <tr>\n",
       "      <th>12</th>\n",
       "      <td>Dickeyville/Franklintown</td>\n",
       "      <td>29.3</td>\n",
       "    </tr>\n",
       "    <tr>\n",
       "      <th>39</th>\n",
       "      <td>North Baltimore/Guilford/Homeland</td>\n",
       "      <td>29.9</td>\n",
       "    </tr>\n",
       "    <tr>\n",
       "      <th>38</th>\n",
       "      <td>Mount Washington/Coldspring</td>\n",
       "      <td>30.0</td>\n",
       "    </tr>\n",
       "    <tr>\n",
       "      <th>31</th>\n",
       "      <td>Lauraville</td>\n",
       "      <td>38.9</td>\n",
       "    </tr>\n",
       "    <tr>\n",
       "      <th>15</th>\n",
       "      <td>Edmondson Village</td>\n",
       "      <td>38.9</td>\n",
       "    </tr>\n",
       "    <tr>\n",
       "      <th>20</th>\n",
       "      <td>Greater Govans</td>\n",
       "      <td>39.9</td>\n",
       "    </tr>\n",
       "    <tr>\n",
       "      <th>40</th>\n",
       "      <td>Northwood</td>\n",
       "      <td>41.8</td>\n",
       "    </tr>\n",
       "    <tr>\n",
       "      <th>32</th>\n",
       "      <td>Loch Raven</td>\n",
       "      <td>43.7</td>\n",
       "    </tr>\n",
       "    <tr>\n",
       "      <th>27</th>\n",
       "      <td>Harford/Echodale</td>\n",
       "      <td>44.2</td>\n",
       "    </tr>\n",
       "    <tr>\n",
       "      <th>29</th>\n",
       "      <td>Howard Park/West Arlington</td>\n",
       "      <td>45.3</td>\n",
       "    </tr>\n",
       "    <tr>\n",
       "      <th>9</th>\n",
       "      <td>Claremont/Armistead</td>\n",
       "      <td>46.3</td>\n",
       "    </tr>\n",
       "    <tr>\n",
       "      <th>5</th>\n",
       "      <td>Canton</td>\n",
       "      <td>46.5</td>\n",
       "    </tr>\n",
       "    <tr>\n",
       "      <th>2</th>\n",
       "      <td>Beechfield/Ten Hills/West Hills</td>\n",
       "      <td>46.6</td>\n",
       "    </tr>\n",
       "    <tr>\n",
       "      <th>8</th>\n",
       "      <td>Chinquapin Park/Belvedere</td>\n",
       "      <td>47.7</td>\n",
       "    </tr>\n",
       "    <tr>\n",
       "      <th>48</th>\n",
       "      <td>South Baltimore</td>\n",
       "      <td>49.8</td>\n",
       "    </tr>\n",
       "    <tr>\n",
       "      <th>17</th>\n",
       "      <td>Forest Park/Walbrook</td>\n",
       "      <td>50.0</td>\n",
       "    </tr>\n",
       "    <tr>\n",
       "      <th>25</th>\n",
       "      <td>Hamilton</td>\n",
       "      <td>50.1</td>\n",
       "    </tr>\n",
       "    <tr>\n",
       "      <th>34</th>\n",
       "      <td>Medfield/Hampden/Woodberry/Remington</td>\n",
       "      <td>51.5</td>\n",
       "    </tr>\n",
       "    <tr>\n",
       "      <th>50</th>\n",
       "      <td>Southern Park Heights</td>\n",
       "      <td>51.6</td>\n",
       "    </tr>\n",
       "    <tr>\n",
       "      <th>18</th>\n",
       "      <td>Glen-Fallstaff</td>\n",
       "      <td>51.8</td>\n",
       "    </tr>\n",
       "    <tr>\n",
       "      <th>6</th>\n",
       "      <td>Cedonia/Frankford</td>\n",
       "      <td>52.3</td>\n",
       "    </tr>\n",
       "    <tr>\n",
       "      <th>7</th>\n",
       "      <td>Cherry Hill</td>\n",
       "      <td>53.5</td>\n",
       "    </tr>\n",
       "    <tr>\n",
       "      <th>4</th>\n",
       "      <td>Brooklyn/Curtis Bay/Hawkins Point</td>\n",
       "      <td>54.9</td>\n",
       "    </tr>\n",
       "    <tr>\n",
       "      <th>10</th>\n",
       "      <td>Clifton-Berea</td>\n",
       "      <td>55.0</td>\n",
       "    </tr>\n",
       "    <tr>\n",
       "      <th>0</th>\n",
       "      <td>Allendale/Irvington/S. Hilton</td>\n",
       "      <td>55.1</td>\n",
       "    </tr>\n",
       "    <tr>\n",
       "      <th>45</th>\n",
       "      <td>Pimlico/Arlington/Hilltop</td>\n",
       "      <td>55.7</td>\n",
       "    </tr>\n",
       "    <tr>\n",
       "      <th>13</th>\n",
       "      <td>Dorchester/Ashburton</td>\n",
       "      <td>56.4</td>\n",
       "    </tr>\n",
       "    <tr>\n",
       "      <th>3</th>\n",
       "      <td>Belair-Edison</td>\n",
       "      <td>56.6</td>\n",
       "    </tr>\n",
       "    <tr>\n",
       "      <th>37</th>\n",
       "      <td>Morrell Park/Violetville</td>\n",
       "      <td>58.8</td>\n",
       "    </tr>\n",
       "    <tr>\n",
       "      <th>44</th>\n",
       "      <td>Penn North/Reservoir Hill</td>\n",
       "      <td>59.6</td>\n",
       "    </tr>\n",
       "    <tr>\n",
       "      <th>23</th>\n",
       "      <td>Greater Rosemont</td>\n",
       "      <td>63.0</td>\n",
       "    </tr>\n",
       "    <tr>\n",
       "      <th>47</th>\n",
       "      <td>Sandtown-Winchester/Harlem Park</td>\n",
       "      <td>63.1</td>\n",
       "    </tr>\n",
       "    <tr>\n",
       "      <th>24</th>\n",
       "      <td>Greenmount East</td>\n",
       "      <td>66.5</td>\n",
       "    </tr>\n",
       "    <tr>\n",
       "      <th>19</th>\n",
       "      <td>Greater Charles Village/Barclay</td>\n",
       "      <td>68.8</td>\n",
       "    </tr>\n",
       "    <tr>\n",
       "      <th>36</th>\n",
       "      <td>Midway/Coldstream</td>\n",
       "      <td>69.9</td>\n",
       "    </tr>\n",
       "    <tr>\n",
       "      <th>16</th>\n",
       "      <td>Fells Point</td>\n",
       "      <td>71.0</td>\n",
       "    </tr>\n",
       "    <tr>\n",
       "      <th>55</th>\n",
       "      <td>Westport/Mount Winans/Lakeland</td>\n",
       "      <td>71.2</td>\n",
       "    </tr>\n",
       "    <tr>\n",
       "      <th>33</th>\n",
       "      <td>Madison/East End</td>\n",
       "      <td>71.8</td>\n",
       "    </tr>\n",
       "    <tr>\n",
       "      <th>52</th>\n",
       "      <td>The Waverlies</td>\n",
       "      <td>75.2</td>\n",
       "    </tr>\n",
       "    <tr>\n",
       "      <th>53</th>\n",
       "      <td>Upton/Druid Heights</td>\n",
       "      <td>77.9</td>\n",
       "    </tr>\n",
       "    <tr>\n",
       "      <th>30</th>\n",
       "      <td>Inner Harbor/Federal Hill</td>\n",
       "      <td>79.3</td>\n",
       "    </tr>\n",
       "    <tr>\n",
       "      <th>43</th>\n",
       "      <td>Patterson Park North &amp; East</td>\n",
       "      <td>79.5</td>\n",
       "    </tr>\n",
       "    <tr>\n",
       "      <th>51</th>\n",
       "      <td>Southwest Baltimore</td>\n",
       "      <td>80.7</td>\n",
       "    </tr>\n",
       "    <tr>\n",
       "      <th>42</th>\n",
       "      <td>Orangeville/East Highlandtown</td>\n",
       "      <td>81.0</td>\n",
       "    </tr>\n",
       "    <tr>\n",
       "      <th>46</th>\n",
       "      <td>Poppleton/The Terraces/Hollins Market</td>\n",
       "      <td>82.0</td>\n",
       "    </tr>\n",
       "    <tr>\n",
       "      <th>41</th>\n",
       "      <td>Oldtown/Middle East</td>\n",
       "      <td>82.6</td>\n",
       "    </tr>\n",
       "    <tr>\n",
       "      <th>49</th>\n",
       "      <td>Southeastern</td>\n",
       "      <td>83.7</td>\n",
       "    </tr>\n",
       "    <tr>\n",
       "      <th>35</th>\n",
       "      <td>Midtown</td>\n",
       "      <td>84.2</td>\n",
       "    </tr>\n",
       "    <tr>\n",
       "      <th>28</th>\n",
       "      <td>Highlandtown</td>\n",
       "      <td>88.8</td>\n",
       "    </tr>\n",
       "    <tr>\n",
       "      <th>21</th>\n",
       "      <td>Greater Mondawmin</td>\n",
       "      <td>102.9</td>\n",
       "    </tr>\n",
       "    <tr>\n",
       "      <th>54</th>\n",
       "      <td>Washington Village/Pigtown</td>\n",
       "      <td>139.4</td>\n",
       "    </tr>\n",
       "    <tr>\n",
       "      <th>26</th>\n",
       "      <td>Harbor East/Little Italy</td>\n",
       "      <td>159.4</td>\n",
       "    </tr>\n",
       "    <tr>\n",
       "      <th>14</th>\n",
       "      <td>Downtown/Seton Hill</td>\n",
       "      <td>243.3</td>\n",
       "    </tr>\n",
       "  </tbody>\n",
       "</table>\n",
       "</div>"
      ],
      "text/plain": [
       "                                Community  2014 Data\n",
       "11                Cross-Country/Cheswolde       14.6\n",
       "22        Greater Roland Park/Poplar Hill       28.2\n",
       "12               Dickeyville/Franklintown       29.3\n",
       "39      North Baltimore/Guilford/Homeland       29.9\n",
       "38            Mount Washington/Coldspring       30.0\n",
       "31                             Lauraville       38.9\n",
       "15                      Edmondson Village       38.9\n",
       "20                         Greater Govans       39.9\n",
       "40                              Northwood       41.8\n",
       "32                             Loch Raven       43.7\n",
       "27                       Harford/Echodale       44.2\n",
       "29             Howard Park/West Arlington       45.3\n",
       "9                     Claremont/Armistead       46.3\n",
       "5                                  Canton       46.5\n",
       "2         Beechfield/Ten Hills/West Hills       46.6\n",
       "8               Chinquapin Park/Belvedere       47.7\n",
       "48                        South Baltimore       49.8\n",
       "17                   Forest Park/Walbrook       50.0\n",
       "25                               Hamilton       50.1\n",
       "34   Medfield/Hampden/Woodberry/Remington       51.5\n",
       "50                  Southern Park Heights       51.6\n",
       "18                         Glen-Fallstaff       51.8\n",
       "6                       Cedonia/Frankford       52.3\n",
       "7                             Cherry Hill       53.5\n",
       "4       Brooklyn/Curtis Bay/Hawkins Point       54.9\n",
       "10                          Clifton-Berea       55.0\n",
       "0           Allendale/Irvington/S. Hilton       55.1\n",
       "45              Pimlico/Arlington/Hilltop       55.7\n",
       "13                   Dorchester/Ashburton       56.4\n",
       "3                           Belair-Edison       56.6\n",
       "37               Morrell Park/Violetville       58.8\n",
       "44              Penn North/Reservoir Hill       59.6\n",
       "23                       Greater Rosemont       63.0\n",
       "47        Sandtown-Winchester/Harlem Park       63.1\n",
       "24                        Greenmount East       66.5\n",
       "19        Greater Charles Village/Barclay       68.8\n",
       "36                      Midway/Coldstream       69.9\n",
       "16                            Fells Point       71.0\n",
       "55         Westport/Mount Winans/Lakeland       71.2\n",
       "33                       Madison/East End       71.8\n",
       "52                          The Waverlies       75.2\n",
       "53                    Upton/Druid Heights       77.9\n",
       "30              Inner Harbor/Federal Hill       79.3\n",
       "43            Patterson Park North & East       79.5\n",
       "51                    Southwest Baltimore       80.7\n",
       "42          Orangeville/East Highlandtown       81.0\n",
       "46  Poppleton/The Terraces/Hollins Market       82.0\n",
       "41                    Oldtown/Middle East       82.6\n",
       "49                           Southeastern       83.7\n",
       "35                                Midtown       84.2\n",
       "28                           Highlandtown       88.8\n",
       "21                      Greater Mondawmin      102.9\n",
       "54             Washington Village/Pigtown      139.4\n",
       "26               Harbor East/Little Italy      159.4\n",
       "14                    Downtown/Seton Hill      243.3"
      ]
     },
     "execution_count": 13,
     "metadata": {},
     "output_type": "execute_result"
    }
   ],
   "source": [
    "crime_sorted"
   ]
  },
  {
   "cell_type": "code",
   "execution_count": 14,
   "metadata": {
    "collapsed": true
   },
   "outputs": [],
   "source": [
    "art_data=pd.read_csv(\"Data/ranking_art.csv\")"
   ]
  },
  {
   "cell_type": "code",
   "execution_count": 15,
   "metadata": {
    "collapsed": false
   },
   "outputs": [
    {
     "data": {
      "text/html": [
       "<div>\n",
       "<table border=\"1\" class=\"dataframe\">\n",
       "  <thead>\n",
       "    <tr style=\"text-align: right;\">\n",
       "      <th></th>\n",
       "      <th>CSA2010</th>\n",
       "      <th>Number of Businesses that are Arts-Related per 1,000 residents_zscore</th>\n",
       "      <th>Rate of Businesses in the Creative Economy per 1,000 residents_zscore</th>\n",
       "      <th>Public Art per 1,000 Residents_zscore</th>\n",
       "      <th>Number of Public Murals_zscore</th>\n",
       "      <th>Number of Event Permits Requested per 1,000 Residents_zscore</th>\n",
       "      <th>employment_in_arts_ratio_zscore</th>\n",
       "      <th>employment_in_creative_ratio_zscore</th>\n",
       "      <th>art_score</th>\n",
       "    </tr>\n",
       "  </thead>\n",
       "  <tbody>\n",
       "    <tr>\n",
       "      <th>0</th>\n",
       "      <td>Downtown/Seton Hill</td>\n",
       "      <td>6.160416</td>\n",
       "      <td>5.942169</td>\n",
       "      <td>5.901892</td>\n",
       "      <td>5.751868</td>\n",
       "      <td>5.319261</td>\n",
       "      <td>4.577978</td>\n",
       "      <td>4.658622</td>\n",
       "      <td>38.312207</td>\n",
       "    </tr>\n",
       "    <tr>\n",
       "      <th>1</th>\n",
       "      <td>Inner Harbor/Federal Hill</td>\n",
       "      <td>1.080492</td>\n",
       "      <td>1.210196</td>\n",
       "      <td>0.034204</td>\n",
       "      <td>-0.319217</td>\n",
       "      <td>3.814830</td>\n",
       "      <td>4.782164</td>\n",
       "      <td>2.709548</td>\n",
       "      <td>13.312217</td>\n",
       "    </tr>\n",
       "    <tr>\n",
       "      <th>2</th>\n",
       "      <td>Midtown</td>\n",
       "      <td>2.048096</td>\n",
       "      <td>1.871280</td>\n",
       "      <td>0.213370</td>\n",
       "      <td>0.008950</td>\n",
       "      <td>0.281166</td>\n",
       "      <td>1.931013</td>\n",
       "      <td>2.434157</td>\n",
       "      <td>8.788034</td>\n",
       "    </tr>\n",
       "    <tr>\n",
       "      <th>3</th>\n",
       "      <td>Washington Village/Pigtown</td>\n",
       "      <td>0.435422</td>\n",
       "      <td>0.375142</td>\n",
       "      <td>0.930035</td>\n",
       "      <td>1.485700</td>\n",
       "      <td>2.065492</td>\n",
       "      <td>0.709588</td>\n",
       "      <td>0.868266</td>\n",
       "      <td>6.869644</td>\n",
       "    </tr>\n",
       "    <tr>\n",
       "      <th>4</th>\n",
       "      <td>Harbor East/Little Italy</td>\n",
       "      <td>1.322393</td>\n",
       "      <td>1.418959</td>\n",
       "      <td>-0.144962</td>\n",
       "      <td>0.008950</td>\n",
       "      <td>0.561061</td>\n",
       "      <td>0.660566</td>\n",
       "      <td>0.918327</td>\n",
       "      <td>4.745294</td>\n",
       "    </tr>\n",
       "  </tbody>\n",
       "</table>\n",
       "</div>"
      ],
      "text/plain": [
       "                      CSA2010  \\\n",
       "0         Downtown/Seton Hill   \n",
       "1   Inner Harbor/Federal Hill   \n",
       "2                     Midtown   \n",
       "3  Washington Village/Pigtown   \n",
       "4    Harbor East/Little Italy   \n",
       "\n",
       "   Number of Businesses that are Arts-Related per 1,000 residents_zscore  \\\n",
       "0                                           6.160416                       \n",
       "1                                           1.080492                       \n",
       "2                                           2.048096                       \n",
       "3                                           0.435422                       \n",
       "4                                           1.322393                       \n",
       "\n",
       "   Rate of Businesses in the Creative Economy per 1,000 residents_zscore  \\\n",
       "0                                           5.942169                       \n",
       "1                                           1.210196                       \n",
       "2                                           1.871280                       \n",
       "3                                           0.375142                       \n",
       "4                                           1.418959                       \n",
       "\n",
       "   Public Art per 1,000 Residents_zscore  Number of Public Murals_zscore  \\\n",
       "0                               5.901892                        5.751868   \n",
       "1                               0.034204                       -0.319217   \n",
       "2                               0.213370                        0.008950   \n",
       "3                               0.930035                        1.485700   \n",
       "4                              -0.144962                        0.008950   \n",
       "\n",
       "   Number of Event Permits Requested per 1,000 Residents_zscore  \\\n",
       "0                                           5.319261              \n",
       "1                                           3.814830              \n",
       "2                                           0.281166              \n",
       "3                                           2.065492              \n",
       "4                                           0.561061              \n",
       "\n",
       "   employment_in_arts_ratio_zscore  employment_in_creative_ratio_zscore  \\\n",
       "0                         4.577978                             4.658622   \n",
       "1                         4.782164                             2.709548   \n",
       "2                         1.931013                             2.434157   \n",
       "3                         0.709588                             0.868266   \n",
       "4                         0.660566                             0.918327   \n",
       "\n",
       "   art_score  \n",
       "0  38.312207  \n",
       "1  13.312217  \n",
       "2   8.788034  \n",
       "3   6.869644  \n",
       "4   4.745294  "
      ]
     },
     "execution_count": 15,
     "metadata": {},
     "output_type": "execute_result"
    }
   ],
   "source": [
    "art_data.head()"
   ]
  },
  {
   "cell_type": "code",
   "execution_count": 24,
   "metadata": {
    "collapsed": true
   },
   "outputs": [],
   "source": [
    "art_ranked=pd.DataFrame()\n",
    "art_ranked[\"Community\"]=art_data[\"CSA2010\"]\n",
    "art_ranked[\"Art Score\"]=art_data[\"art_score\"]"
   ]
  },
  {
   "cell_type": "code",
   "execution_count": 32,
   "metadata": {
    "collapsed": false
   },
   "outputs": [],
   "source": [
    "art_crime=pd.merge(left=crime_sorted,right=art_ranked,on=\"Community\")\n",
    "income_scored=pd.read_csv(\"baseline_model.csv\")"
   ]
  },
  {
   "cell_type": "code",
   "execution_count": 47,
   "metadata": {
    "collapsed": false
   },
   "outputs": [],
   "source": [
    "income_score=pd.DataFrame()"
   ]
  },
  {
   "cell_type": "code",
   "execution_count": 48,
   "metadata": {
    "collapsed": true
   },
   "outputs": [],
   "source": [
    "income_score[\"Community\"]=income_scored[\"CSA2010\"]"
   ]
  },
  {
   "cell_type": "code",
   "execution_count": 49,
   "metadata": {
    "collapsed": true
   },
   "outputs": [],
   "source": [
    "income_score[\"TOM\"]=income_scored[\"Median Number of Days on the Market (2014)\"]"
   ]
  },
  {
   "cell_type": "code",
   "execution_count": 50,
   "metadata": {
    "collapsed": true
   },
   "outputs": [],
   "source": [
    "art_crime_income=pd.merge(left=art_crime,right=income_score,on=\"Community\")"
   ]
  },
  {
   "cell_type": "code",
   "execution_count": 51,
   "metadata": {
    "collapsed": false
   },
   "outputs": [
    {
     "data": {
      "text/html": [
       "<div>\n",
       "<table border=\"1\" class=\"dataframe\">\n",
       "  <thead>\n",
       "    <tr style=\"text-align: right;\">\n",
       "      <th></th>\n",
       "      <th>2014 Data</th>\n",
       "      <th>Art Score</th>\n",
       "      <th>TOM</th>\n",
       "    </tr>\n",
       "  </thead>\n",
       "  <tbody>\n",
       "    <tr>\n",
       "      <th>2014 Data</th>\n",
       "      <td>1.000000</td>\n",
       "      <td>0.795938</td>\n",
       "      <td>0.221893</td>\n",
       "    </tr>\n",
       "    <tr>\n",
       "      <th>Art Score</th>\n",
       "      <td>0.795938</td>\n",
       "      <td>1.000000</td>\n",
       "      <td>0.205689</td>\n",
       "    </tr>\n",
       "    <tr>\n",
       "      <th>TOM</th>\n",
       "      <td>0.221893</td>\n",
       "      <td>0.205689</td>\n",
       "      <td>1.000000</td>\n",
       "    </tr>\n",
       "  </tbody>\n",
       "</table>\n",
       "</div>"
      ],
      "text/plain": [
       "           2014 Data  Art Score       TOM\n",
       "2014 Data   1.000000   0.795938  0.221893\n",
       "Art Score   0.795938   1.000000  0.205689\n",
       "TOM         0.221893   0.205689  1.000000"
      ]
     },
     "execution_count": 51,
     "metadata": {},
     "output_type": "execute_result"
    }
   ],
   "source": [
    "art_crime_income.corr(method=\"pearson\")"
   ]
  },
  {
   "cell_type": "code",
   "execution_count": 29,
   "metadata": {
    "collapsed": true
   },
   "outputs": [],
   "source": [
    "art_crime_ranked=art_scored.sort_values(ascending=True,by=\"2014 Data\")"
   ]
  },
  {
   "cell_type": "code",
   "execution_count": 52,
   "metadata": {
    "collapsed": true
   },
   "outputs": [],
   "source": [
    "census=pd.read_csv(\"Data/census_pd.csv\")"
   ]
  },
  {
   "cell_type": "code",
   "execution_count": 53,
   "metadata": {
    "collapsed": false
   },
   "outputs": [
    {
     "data": {
      "text/plain": [
       "Index([u'CSA2010', u'Total Population (2010)', u'Total Male Population (2010)',\n",
       "       u'Total Female Population (2010)',\n",
       "       u'Percent of Residents - Black/African-American (2010)',\n",
       "       u'Percent of Residents - White/Caucasian (2010)',\n",
       "       u'Percent of Residents - Asian (2010)',\n",
       "       u'Percent of Residents - Two or More Races (2010)',\n",
       "       u'Percent of Residents - All Other Races (Hawaiian/ Pacific Islander, Alaskan/ Native American Other Race) (2010)',\n",
       "       u'Percent of Residents - Hispanic (2010)',\n",
       "       u'Racial Diversity Index (2010)',\n",
       "       u'Percent of Population 0-5 years old (2010)',\n",
       "       u'Percent of Population 6-18 years old (2010)',\n",
       "       u'Percent of Population 19-24 years old (2010)',\n",
       "       u'Percent of Population 25-64 years old (2010)',\n",
       "       u'Percent of Population 65 years and over (2010)',\n",
       "       u'Total Number of Households (2010)',\n",
       "       u'Percent of Female-Headed Households with Children under 18 (2010)',\n",
       "       u'Percent of Households with Children Under 18 (2010)',\n",
       "       u'Average Household Size (2010)',\n",
       "       u'Median Household Income (2010-2014)',\n",
       "       u'Percent of Households Earning Less than $25,000 (2010-2014)',\n",
       "       u'Percent of Households Earning $25,000 to $40,000 (2010-2014)',\n",
       "       u'Percent of Households Earning $40,000 to $60,000 (2010-2014)',\n",
       "       u'Percent of Households Earning $60,000 to $75,000 (2010-2014)',\n",
       "       u'Percent of Households Earning More than $75,000 (2010-2014)',\n",
       "       u'Percent of Family Households Living Below the Poverty Line (2010-2014)',\n",
       "       u'Percent of Children Living Below the Poverty Line (2010-2014)'],\n",
       "      dtype='object')"
      ]
     },
     "execution_count": 53,
     "metadata": {},
     "output_type": "execute_result"
    }
   ],
   "source": [
    "census.columns"
   ]
  },
  {
   "cell_type": "code",
   "execution_count": 63,
   "metadata": {
    "collapsed": true
   },
   "outputs": [],
   "source": [
    "census_art=pd.DataFrame()"
   ]
  },
  {
   "cell_type": "code",
   "execution_count": 64,
   "metadata": {
    "collapsed": true
   },
   "outputs": [],
   "source": [
    "census_art[\"Community\"]=art_crime_income[\"Community\"]\n",
    "census_art[\"Art Score\"]=art_crime_income[\"Art Score\"]\n",
    "census_art[\"Crime\"]=art_crime_income[\"2014 Data\"]"
   ]
  },
  {
   "cell_type": "code",
   "execution_count": 65,
   "metadata": {
    "collapsed": false
   },
   "outputs": [],
   "source": [
    "census_subset=pd.DataFrame()\n",
    "census_subset[\"Community\"]=census[\"CSA2010\"]\n",
    "census_subset[\"Population 19-24\"]=census['Percent of Population 19-24 years old (2010)']\n",
    "census_subset[\"Population 25-64\"]=census['Percent of Population 25-64 years old (2010)']\n",
    "census_subset[\"Income\"]=census[\"Median Household Income (2010-2014)\"]"
   ]
  },
  {
   "cell_type": "code",
   "execution_count": 66,
   "metadata": {
    "collapsed": true
   },
   "outputs": [],
   "source": [
    "art_final=pd.merge(left=census_art,right=census_subset,on=\"Community\")"
   ]
  },
  {
   "cell_type": "code",
   "execution_count": 67,
   "metadata": {
    "collapsed": false
   },
   "outputs": [],
   "source": [
    "art_final_ranked=art_final.sort_values(by=\"Art Score\",ascending=False)"
   ]
  },
  {
   "cell_type": "code",
   "execution_count": 69,
   "metadata": {
    "collapsed": false
   },
   "outputs": [],
   "source": [
    "art_final_ranked.to_csv(\"art_rankings.csv\")"
   ]
  },
  {
   "cell_type": "code",
   "execution_count": null,
   "metadata": {
    "collapsed": true
   },
   "outputs": [],
   "source": []
  }
 ],
 "metadata": {
  "celltoolbar": "Raw Cell Format",
  "kernelspec": {
   "display_name": "Python 2",
   "language": "python",
   "name": "python2"
  },
  "language_info": {
   "codemirror_mode": {
    "name": "ipython",
    "version": 2
   },
   "file_extension": ".py",
   "mimetype": "text/x-python",
   "name": "python",
   "nbconvert_exporter": "python",
   "pygments_lexer": "ipython2",
   "version": "2.7.12"
  }
 },
 "nbformat": 4,
 "nbformat_minor": 1
}
