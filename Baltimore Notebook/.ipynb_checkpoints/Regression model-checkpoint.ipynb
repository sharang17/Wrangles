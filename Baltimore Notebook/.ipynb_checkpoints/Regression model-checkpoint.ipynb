{
 "cells": [
  {
   "cell_type": "markdown",
   "metadata": {},
   "source": [
    "Regression model\n",
    "\n",
    "We have build a regression model to predict the most probable prices of the houses in a neighborhood. Based on our observations and analysis to this point, we believe following are the parameters that would be the best choice for evaluating the output. \n",
    "\n",
    "Parameters used to train the model\n",
    "\n",
    "1. Median Income\n",
    "2. Media TOM\n",
    "3. Nightlife\n",
    "4. Education quality\n",
    "5. 311 data\n",
    "6. 911 data\n",
    "7. Art\n",
    "8. Diversity\n",
    "\n",
    "We have performed feature scaling on all the parameters to make sure gradient descent converges more quickly- this step includes subtracting mean and then dividing by sdtandard deviation. "
   ]
  },
  {
   "cell_type": "code",
   "execution_count": 62,
   "metadata": {
    "collapsed": true
   },
   "outputs": [],
   "source": [
    "import pandas as pd\n",
    "import numpy as np\n",
    "import pickle\n",
    "import scipy.stats as ss"
   ]
  },
  {
   "cell_type": "code",
   "execution_count": 51,
   "metadata": {
    "collapsed": false
   },
   "outputs": [
    {
     "data": {
      "text/html": [
       "<div>\n",
       "<table border=\"1\" class=\"dataframe\">\n",
       "  <thead>\n",
       "    <tr style=\"text-align: right;\">\n",
       "      <th></th>\n",
       "      <th>CSA2010</th>\n",
       "      <th>TOM</th>\n",
       "      <th>Crime</th>\n",
       "      <th>Restaurant</th>\n",
       "      <th>Price</th>\n",
       "      <th>Education</th>\n",
       "      <th>Diversity</th>\n",
       "    </tr>\n",
       "  </thead>\n",
       "  <tbody>\n",
       "    <tr>\n",
       "      <th>0</th>\n",
       "      <td>Allendale/Irvington/S. Hilton</td>\n",
       "      <td>43</td>\n",
       "      <td>55.1</td>\n",
       "      <td>9</td>\n",
       "      <td>33250</td>\n",
       "      <td>83.7</td>\n",
       "      <td>24.138062</td>\n",
       "    </tr>\n",
       "    <tr>\n",
       "      <th>1</th>\n",
       "      <td>Beechfield/Ten Hills/West Hills</td>\n",
       "      <td>49</td>\n",
       "      <td>46.6</td>\n",
       "      <td>1</td>\n",
       "      <td>130000</td>\n",
       "      <td>87.6</td>\n",
       "      <td>37.403378</td>\n",
       "    </tr>\n",
       "  </tbody>\n",
       "</table>\n",
       "</div>"
      ],
      "text/plain": [
       "                           CSA2010  TOM  Crime  Restaurant   Price  Education  \\\n",
       "0    Allendale/Irvington/S. Hilton   43   55.1           9   33250       83.7   \n",
       "1  Beechfield/Ten Hills/West Hills   49   46.6           1  130000       87.6   \n",
       "\n",
       "   Diversity  \n",
       "0  24.138062  \n",
       "1  37.403378  "
      ]
     },
     "execution_count": 51,
     "metadata": {},
     "output_type": "execute_result"
    }
   ],
   "source": [
    "baseline_df = pd.read_csv('../BaltimoreRanking-519/regression_data.csv') #change the path accordingly\n",
    "baseline_df.head(2)"
   ]
  },
  {
   "cell_type": "code",
   "execution_count": 52,
   "metadata": {
    "collapsed": false
   },
   "outputs": [],
   "source": [
    "x_df = baseline_df[['TOM', 'Crime', 'Restaurant', 'Education']] #'Diversity'"
   ]
  },
  {
   "cell_type": "code",
   "execution_count": 53,
   "metadata": {
    "collapsed": false
   },
   "outputs": [
    {
     "data": {
      "text/html": [
       "<div>\n",
       "<table border=\"1\" class=\"dataframe\">\n",
       "  <thead>\n",
       "    <tr style=\"text-align: right;\">\n",
       "      <th></th>\n",
       "      <th>TOM</th>\n",
       "      <th>Crime</th>\n",
       "      <th>Restaurant</th>\n",
       "      <th>Education</th>\n",
       "    </tr>\n",
       "  </thead>\n",
       "  <tbody>\n",
       "    <tr>\n",
       "      <th>TOM</th>\n",
       "      <td>1.000000</td>\n",
       "      <td>0.221893</td>\n",
       "      <td>-0.023627</td>\n",
       "      <td>-0.258521</td>\n",
       "    </tr>\n",
       "    <tr>\n",
       "      <th>Crime</th>\n",
       "      <td>0.221893</td>\n",
       "      <td>1.000000</td>\n",
       "      <td>0.452368</td>\n",
       "      <td>-0.012080</td>\n",
       "    </tr>\n",
       "    <tr>\n",
       "      <th>Restaurant</th>\n",
       "      <td>-0.023627</td>\n",
       "      <td>0.452368</td>\n",
       "      <td>1.000000</td>\n",
       "      <td>-0.129392</td>\n",
       "    </tr>\n",
       "    <tr>\n",
       "      <th>Education</th>\n",
       "      <td>-0.258521</td>\n",
       "      <td>-0.012080</td>\n",
       "      <td>-0.129392</td>\n",
       "      <td>1.000000</td>\n",
       "    </tr>\n",
       "  </tbody>\n",
       "</table>\n",
       "</div>"
      ],
      "text/plain": [
       "                 TOM     Crime  Restaurant  Education\n",
       "TOM         1.000000  0.221893   -0.023627  -0.258521\n",
       "Crime       0.221893  1.000000    0.452368  -0.012080\n",
       "Restaurant -0.023627  0.452368    1.000000  -0.129392\n",
       "Education  -0.258521 -0.012080   -0.129392   1.000000"
      ]
     },
     "execution_count": 53,
     "metadata": {},
     "output_type": "execute_result"
    }
   ],
   "source": [
    "x_df.corr()"
   ]
  },
  {
   "cell_type": "markdown",
   "metadata": {},
   "source": [
    "We see from the correlation table that features are independent of each other due to low coefficient value except Restaurant and Crime. By doing P test for these two features we see that p value is lw so we can consider both the featues for our model."
   ]
  },
  {
   "cell_type": "code",
   "execution_count": 64,
   "metadata": {
    "collapsed": false
   },
   "outputs": [
    {
     "name": "stdout",
     "output_type": "stream",
     "text": [
      "R: 0.452368302017 P: 0.000525492492923\n"
     ]
    }
   ],
   "source": [
    "restaurant = x_df['Restaurant']\n",
    "crime = x_df['Crime']\n",
    "corr, p = ss.pearsonr(restaurant, crime)\n",
    "print (\"R: %s P: %s\" %(corr, p))"
   ]
  },
  {
   "cell_type": "code",
   "execution_count": 54,
   "metadata": {
    "collapsed": true
   },
   "outputs": [],
   "source": [
    "from sklearn.linear_model import LinearRegression"
   ]
  },
  {
   "cell_type": "code",
   "execution_count": 55,
   "metadata": {
    "collapsed": true
   },
   "outputs": [],
   "source": [
    "model = LinearRegression(fit_intercept=True, normalize=True, copy_X=True)"
   ]
  },
  {
   "cell_type": "code",
   "execution_count": 56,
   "metadata": {
    "collapsed": false
   },
   "outputs": [
    {
     "data": {
      "text/plain": [
       "LinearRegression(copy_X=True, fit_intercept=True, n_jobs=1, normalize=True)"
      ]
     },
     "execution_count": 56,
     "metadata": {},
     "output_type": "execute_result"
    }
   ],
   "source": [
    "Y = baseline_df['Price']\n",
    "X = x_df.as_matrix()\n",
    "model.fit(X, Y)"
   ]
  },
  {
   "cell_type": "code",
   "execution_count": 57,
   "metadata": {
    "collapsed": false
   },
   "outputs": [
    {
     "data": {
      "text/plain": [
       "array([  336.47083038,  -428.85588914,  1590.77314296,  1377.02408032])"
      ]
     },
     "execution_count": 57,
     "metadata": {},
     "output_type": "execute_result"
    }
   ],
   "source": [
    "model.coef_"
   ]
  },
  {
   "cell_type": "markdown",
   "metadata": {},
   "source": [
    "Below code is to save and load the trained model"
   ]
  },
  {
   "cell_type": "code",
   "execution_count": 59,
   "metadata": {
    "collapsed": true
   },
   "outputs": [],
   "source": [
    "filename = 'Baltimore_model.sav'\n",
    "pickle.dump(model, open(filename, 'wb'))"
   ]
  },
  {
   "cell_type": "code",
   "execution_count": 60,
   "metadata": {
    "collapsed": false
   },
   "outputs": [
    {
     "name": "stdout",
     "output_type": "stream",
     "text": [
      "LinearRegression(copy_X=True, fit_intercept=True, n_jobs=1, normalize=True)\n"
     ]
    }
   ],
   "source": [
    "trained_model = pickle.load(open(filename, 'rb'))\n",
    "#result = loaded_model.score(X_test, Y_test)\n",
    "print(trained_model)"
   ]
  }
 ],
 "metadata": {
  "kernelspec": {
   "display_name": "Python 2",
   "language": "python",
   "name": "python2"
  },
  "language_info": {
   "codemirror_mode": {
    "name": "ipython",
    "version": 2
   },
   "file_extension": ".py",
   "mimetype": "text/x-python",
   "name": "python",
   "nbconvert_exporter": "python",
   "pygments_lexer": "ipython2",
   "version": "2.7.12"
  }
 },
 "nbformat": 4,
 "nbformat_minor": 1
}
