{
 "cells": [
  {
   "cell_type": "code",
   "execution_count": 1,
   "metadata": {
    "collapsed": true
   },
   "outputs": [],
   "source": [
    "%matplotlib inline"
   ]
  },
  {
   "cell_type": "code",
   "execution_count": 2,
   "metadata": {
    "collapsed": true
   },
   "outputs": [],
   "source": [
    "import pandas as pd\n",
    "import numpy as np\n",
    "import matplotlib.pyplot as plt\n",
    "import seaborn as sns "
   ]
  },
  {
   "cell_type": "code",
   "execution_count": 3,
   "metadata": {
    "collapsed": true
   },
   "outputs": [],
   "source": [
    "rankings_data=pd.read_csv(\"ranking_data.csv\")"
   ]
  },
  {
   "cell_type": "code",
   "execution_count": 4,
   "metadata": {
    "collapsed": false
   },
   "outputs": [
    {
     "data": {
      "text/plain": [
       "Index([u'CSA2010', u'Number of Homes Sold (2010)',\n",
       "       u'Number of Homes Sold (2011)', u'Number of Homes Sold (2012)',\n",
       "       u'Number of Homes Sold (2013)', u'Number of Homes Sold (2014)',\n",
       "       u'Median Price of Homes Sold (2010)',\n",
       "       u'Median Price of Homes Sold (2011)',\n",
       "       u'Median Price of Homes Sold (2012)',\n",
       "       u'Median Price of Homes Sold (2013)',\n",
       "       u'Median Price of Homes Sold (2014)',\n",
       "       u'Median Number of Days on the Market (2010)',\n",
       "       u'Median Number of Days on the Market (2011)',\n",
       "       u'Median Number of Days on the Market (2012)',\n",
       "       u'Median Number of Days on the Market (2013)',\n",
       "       u'Median Number of Days on the Market (2014)',\n",
       "       u'Percentage of Housing Units that are Owner-Occupied (2010)',\n",
       "       u'Percentage of Housing Units that are Owner-Occupied (2011)',\n",
       "       u'Percentage of Housing Units that are Owner-Occupied (2012)',\n",
       "       u'Percentage of Housing Units that are Owner-Occupied (2013)',\n",
       "       u'Percentage of Housing Units that are Owner-Occupied (2014)',\n",
       "       u'Total Population (2010)', u'Average Household Size (2010)',\n",
       "       u'Median Household Income (2010-2014)',\n",
       "       u'Total Number of Households (2010)',\n",
       "       u'Percent of Households Earning Less than $25,000 (2010-2014)',\n",
       "       u'Percent of Households Earning $25,000 to $40,000 (2010-2014)',\n",
       "       u'Percent of Households Earning $40,000 to $60,000 (2010-2014)',\n",
       "       u'Percent of Households Earning $60,000 to $75,000 (2010-2014)',\n",
       "       u'Percent of Households Earning More than $75,000 (2010-2014)',\n",
       "       u'Percent of Family Households Living Below the Poverty Line (2010-2014)',\n",
       "       u'Percent of Children Living Below the Poverty Line (2010-2014)',\n",
       "       u'Racial Diversity Index (2010)',\n",
       "       u'Percent of Population 0-5 years old (2010)',\n",
       "       u'Percent of Population 6-18 years old (2010)',\n",
       "       u'Percent of Population 19-24 years old (2010)',\n",
       "       u'Percent of Population 25-64 years old (2010)',\n",
       "       u'Percent of Population 65 years and over (2010)'],\n",
       "      dtype='object')"
      ]
     },
     "execution_count": 4,
     "metadata": {},
     "output_type": "execute_result"
    }
   ],
   "source": [
    "rankings_data.columns"
   ]
  },
  {
   "cell_type": "code",
   "execution_count": 5,
   "metadata": {
    "collapsed": false
   },
   "outputs": [],
   "source": [
    "rankings_data=rankings_data.dropna()"
   ]
  },
  {
   "cell_type": "code",
   "execution_count": 6,
   "metadata": {
    "collapsed": false
   },
   "outputs": [],
   "source": [
    "comm=rankings_data[\"CSA2010\"]\n",
    "median_price=list(rankings_data[\"Median Price of Homes Sold (2014)\"])"
   ]
  },
  {
   "cell_type": "code",
   "execution_count": 7,
   "metadata": {
    "collapsed": false
   },
   "outputs": [],
   "source": [
    "median_price=[i.replace(\"$\", \"\") for i in median_price]\n",
    "median_price=[i.replace(\",\", \"\") for i in median_price]\n",
    "median_price=[float(i) for i in median_price]\n",
    "median_tom=rankings_data[\"Median Number of Days on the Market (2014)\"]"
   ]
  },
  {
   "cell_type": "code",
   "execution_count": 8,
   "metadata": {
    "collapsed": true
   },
   "outputs": [],
   "source": [
    "ranks_1=pd.DataFrame()"
   ]
  },
  {
   "cell_type": "code",
   "execution_count": 9,
   "metadata": {
    "collapsed": false
   },
   "outputs": [],
   "source": [
    "ranks_1[\"Neighbourhood\"]=pd.Series(comm)\n",
    "ranks_1[\"MedianHousePrice\"]=pd.Series(median_price)\n",
    "ranks_1[\"MedianTOM\"]=pd.Series(median_tom)"
   ]
  },
  {
   "cell_type": "code",
   "execution_count": 10,
   "metadata": {
    "collapsed": false
   },
   "outputs": [],
   "source": [
    "price_mean=ranks_1[\"MedianTOM\"].mean()\n",
    "std_tom=[-1*(i-price_mean) for i in ranks_1[\"MedianTOM\"]]"
   ]
  },
  {
   "cell_type": "code",
   "execution_count": 11,
   "metadata": {
    "collapsed": false
   },
   "outputs": [],
   "source": [
    "ranks_1[\"TOM Deviations\"]=std_tom"
   ]
  },
  {
   "cell_type": "code",
   "execution_count": 12,
   "metadata": {
    "collapsed": false
   },
   "outputs": [
    {
     "data": {
      "text/html": [
       "<div>\n",
       "<table border=\"1\" class=\"dataframe\">\n",
       "  <thead>\n",
       "    <tr style=\"text-align: right;\">\n",
       "      <th></th>\n",
       "      <th>Neighbourhood</th>\n",
       "      <th>MedianHousePrice</th>\n",
       "      <th>MedianTOM</th>\n",
       "      <th>TOM Deviations</th>\n",
       "    </tr>\n",
       "  </thead>\n",
       "  <tbody>\n",
       "    <tr>\n",
       "      <th>47</th>\n",
       "      <td>South Baltimore</td>\n",
       "      <td>289900.0</td>\n",
       "      <td>23</td>\n",
       "      <td>19.660714</td>\n",
       "    </tr>\n",
       "    <tr>\n",
       "      <th>45</th>\n",
       "      <td>Poppleton/The Terraces/Hollins Market</td>\n",
       "      <td>73600.0</td>\n",
       "      <td>27</td>\n",
       "      <td>15.660714</td>\n",
       "    </tr>\n",
       "    <tr>\n",
       "      <th>42</th>\n",
       "      <td>Patterson Park North &amp; East</td>\n",
       "      <td>172000.0</td>\n",
       "      <td>28</td>\n",
       "      <td>14.660714</td>\n",
       "    </tr>\n",
       "    <tr>\n",
       "      <th>35</th>\n",
       "      <td>Midway/Coldstream</td>\n",
       "      <td>17005.0</td>\n",
       "      <td>28</td>\n",
       "      <td>14.660714</td>\n",
       "    </tr>\n",
       "    <tr>\n",
       "      <th>29</th>\n",
       "      <td>Inner Harbor/Federal Hill</td>\n",
       "      <td>320000.0</td>\n",
       "      <td>28</td>\n",
       "      <td>14.660714</td>\n",
       "    </tr>\n",
       "    <tr>\n",
       "      <th>33</th>\n",
       "      <td>Medfield/Hampden/Woodberry/Remington</td>\n",
       "      <td>175000.0</td>\n",
       "      <td>29</td>\n",
       "      <td>13.660714</td>\n",
       "    </tr>\n",
       "    <tr>\n",
       "      <th>54</th>\n",
       "      <td>Westport/Mount Winans/Lakeland</td>\n",
       "      <td>35500.0</td>\n",
       "      <td>30</td>\n",
       "      <td>12.660714</td>\n",
       "    </tr>\n",
       "    <tr>\n",
       "      <th>4</th>\n",
       "      <td>Canton</td>\n",
       "      <td>275000.0</td>\n",
       "      <td>30</td>\n",
       "      <td>12.660714</td>\n",
       "    </tr>\n",
       "    <tr>\n",
       "      <th>52</th>\n",
       "      <td>Upton/Druid Heights</td>\n",
       "      <td>71202.0</td>\n",
       "      <td>31</td>\n",
       "      <td>11.660714</td>\n",
       "    </tr>\n",
       "    <tr>\n",
       "      <th>9</th>\n",
       "      <td>Clifton-Berea</td>\n",
       "      <td>20000.0</td>\n",
       "      <td>32</td>\n",
       "      <td>10.660714</td>\n",
       "    </tr>\n",
       "    <tr>\n",
       "      <th>15</th>\n",
       "      <td>Fells Point</td>\n",
       "      <td>249000.0</td>\n",
       "      <td>33</td>\n",
       "      <td>9.660714</td>\n",
       "    </tr>\n",
       "    <tr>\n",
       "      <th>34</th>\n",
       "      <td>Midtown</td>\n",
       "      <td>200000.0</td>\n",
       "      <td>33</td>\n",
       "      <td>9.660714</td>\n",
       "    </tr>\n",
       "    <tr>\n",
       "      <th>20</th>\n",
       "      <td>Greater Mondawmin</td>\n",
       "      <td>40500.0</td>\n",
       "      <td>33</td>\n",
       "      <td>9.660714</td>\n",
       "    </tr>\n",
       "    <tr>\n",
       "      <th>38</th>\n",
       "      <td>North Baltimore/Guilford/Homeland</td>\n",
       "      <td>325000.0</td>\n",
       "      <td>33</td>\n",
       "      <td>9.660714</td>\n",
       "    </tr>\n",
       "    <tr>\n",
       "      <th>37</th>\n",
       "      <td>Mount Washington/Coldspring</td>\n",
       "      <td>287000.0</td>\n",
       "      <td>34</td>\n",
       "      <td>8.660714</td>\n",
       "    </tr>\n",
       "    <tr>\n",
       "      <th>28</th>\n",
       "      <td>Howard Park/West Arlington</td>\n",
       "      <td>70000.0</td>\n",
       "      <td>34</td>\n",
       "      <td>8.660714</td>\n",
       "    </tr>\n",
       "    <tr>\n",
       "      <th>31</th>\n",
       "      <td>Loch Raven</td>\n",
       "      <td>73100.0</td>\n",
       "      <td>34</td>\n",
       "      <td>8.660714</td>\n",
       "    </tr>\n",
       "    <tr>\n",
       "      <th>40</th>\n",
       "      <td>Oldtown/Middle East</td>\n",
       "      <td>149900.0</td>\n",
       "      <td>35</td>\n",
       "      <td>7.660714</td>\n",
       "    </tr>\n",
       "    <tr>\n",
       "      <th>10</th>\n",
       "      <td>Cross-Country/Cheswolde</td>\n",
       "      <td>165000.0</td>\n",
       "      <td>35</td>\n",
       "      <td>7.660714</td>\n",
       "    </tr>\n",
       "    <tr>\n",
       "      <th>36</th>\n",
       "      <td>Morrell Park/Violetville</td>\n",
       "      <td>69000.0</td>\n",
       "      <td>35</td>\n",
       "      <td>7.660714</td>\n",
       "    </tr>\n",
       "    <tr>\n",
       "      <th>39</th>\n",
       "      <td>Northwood</td>\n",
       "      <td>90000.0</td>\n",
       "      <td>36</td>\n",
       "      <td>6.660714</td>\n",
       "    </tr>\n",
       "    <tr>\n",
       "      <th>43</th>\n",
       "      <td>Penn North/Reservoir Hill</td>\n",
       "      <td>65000.0</td>\n",
       "      <td>36</td>\n",
       "      <td>6.660714</td>\n",
       "    </tr>\n",
       "    <tr>\n",
       "      <th>21</th>\n",
       "      <td>Greater Roland Park/Poplar Hill</td>\n",
       "      <td>310000.0</td>\n",
       "      <td>36</td>\n",
       "      <td>6.660714</td>\n",
       "    </tr>\n",
       "    <tr>\n",
       "      <th>7</th>\n",
       "      <td>Chinquapin Park/Belvedere</td>\n",
       "      <td>120000.0</td>\n",
       "      <td>36</td>\n",
       "      <td>6.660714</td>\n",
       "    </tr>\n",
       "    <tr>\n",
       "      <th>53</th>\n",
       "      <td>Washington Village/Pigtown</td>\n",
       "      <td>113000.0</td>\n",
       "      <td>36</td>\n",
       "      <td>6.660714</td>\n",
       "    </tr>\n",
       "    <tr>\n",
       "      <th>3</th>\n",
       "      <td>Brooklyn/Curtis Bay/Hawkins Point</td>\n",
       "      <td>40000.0</td>\n",
       "      <td>36</td>\n",
       "      <td>6.660714</td>\n",
       "    </tr>\n",
       "    <tr>\n",
       "      <th>41</th>\n",
       "      <td>Orangeville/East Highlandtown</td>\n",
       "      <td>90000.0</td>\n",
       "      <td>37</td>\n",
       "      <td>5.660714</td>\n",
       "    </tr>\n",
       "    <tr>\n",
       "      <th>55</th>\n",
       "      <td>Baltimore City</td>\n",
       "      <td>126325.0</td>\n",
       "      <td>38</td>\n",
       "      <td>4.660714</td>\n",
       "    </tr>\n",
       "    <tr>\n",
       "      <th>6</th>\n",
       "      <td>Cherry Hill</td>\n",
       "      <td>23500.0</td>\n",
       "      <td>38</td>\n",
       "      <td>4.660714</td>\n",
       "    </tr>\n",
       "    <tr>\n",
       "      <th>2</th>\n",
       "      <td>Belair-Edison</td>\n",
       "      <td>41975.0</td>\n",
       "      <td>39</td>\n",
       "      <td>3.660714</td>\n",
       "    </tr>\n",
       "    <tr>\n",
       "      <th>46</th>\n",
       "      <td>Sandtown-Winchester/Harlem Park</td>\n",
       "      <td>18000.0</td>\n",
       "      <td>39</td>\n",
       "      <td>3.660714</td>\n",
       "    </tr>\n",
       "    <tr>\n",
       "      <th>14</th>\n",
       "      <td>Edmondson Village</td>\n",
       "      <td>55000.0</td>\n",
       "      <td>39</td>\n",
       "      <td>3.660714</td>\n",
       "    </tr>\n",
       "    <tr>\n",
       "      <th>12</th>\n",
       "      <td>Dorchester/Ashburton</td>\n",
       "      <td>86250.0</td>\n",
       "      <td>40</td>\n",
       "      <td>2.660714</td>\n",
       "    </tr>\n",
       "    <tr>\n",
       "      <th>18</th>\n",
       "      <td>Greater Charles Village/Barclay</td>\n",
       "      <td>189900.0</td>\n",
       "      <td>41</td>\n",
       "      <td>1.660714</td>\n",
       "    </tr>\n",
       "    <tr>\n",
       "      <th>27</th>\n",
       "      <td>Highlandtown</td>\n",
       "      <td>265000.0</td>\n",
       "      <td>41</td>\n",
       "      <td>1.660714</td>\n",
       "    </tr>\n",
       "    <tr>\n",
       "      <th>0</th>\n",
       "      <td>Allendale/Irvington/S. Hilton</td>\n",
       "      <td>33250.0</td>\n",
       "      <td>43</td>\n",
       "      <td>-0.339286</td>\n",
       "    </tr>\n",
       "    <tr>\n",
       "      <th>19</th>\n",
       "      <td>Greater Govans</td>\n",
       "      <td>50600.0</td>\n",
       "      <td>44</td>\n",
       "      <td>-1.339286</td>\n",
       "    </tr>\n",
       "    <tr>\n",
       "      <th>5</th>\n",
       "      <td>Cedonia/Frankford</td>\n",
       "      <td>78575.0</td>\n",
       "      <td>45</td>\n",
       "      <td>-2.339286</td>\n",
       "    </tr>\n",
       "    <tr>\n",
       "      <th>24</th>\n",
       "      <td>Hamilton</td>\n",
       "      <td>106000.0</td>\n",
       "      <td>45</td>\n",
       "      <td>-2.339286</td>\n",
       "    </tr>\n",
       "    <tr>\n",
       "      <th>30</th>\n",
       "      <td>Lauraville</td>\n",
       "      <td>132000.0</td>\n",
       "      <td>46</td>\n",
       "      <td>-3.339286</td>\n",
       "    </tr>\n",
       "    <tr>\n",
       "      <th>26</th>\n",
       "      <td>Harford/Echodale</td>\n",
       "      <td>123999.0</td>\n",
       "      <td>47</td>\n",
       "      <td>-4.339286</td>\n",
       "    </tr>\n",
       "    <tr>\n",
       "      <th>49</th>\n",
       "      <td>Southern Park Heights</td>\n",
       "      <td>19900.0</td>\n",
       "      <td>47</td>\n",
       "      <td>-4.339286</td>\n",
       "    </tr>\n",
       "    <tr>\n",
       "      <th>17</th>\n",
       "      <td>Glen-Fallstaff</td>\n",
       "      <td>87500.0</td>\n",
       "      <td>47</td>\n",
       "      <td>-4.339286</td>\n",
       "    </tr>\n",
       "    <tr>\n",
       "      <th>44</th>\n",
       "      <td>Pimlico/Arlington/Hilltop</td>\n",
       "      <td>30000.0</td>\n",
       "      <td>48</td>\n",
       "      <td>-5.339286</td>\n",
       "    </tr>\n",
       "    <tr>\n",
       "      <th>1</th>\n",
       "      <td>Beechfield/Ten Hills/West Hills</td>\n",
       "      <td>130000.0</td>\n",
       "      <td>49</td>\n",
       "      <td>-6.339286</td>\n",
       "    </tr>\n",
       "    <tr>\n",
       "      <th>16</th>\n",
       "      <td>Forest Park/Walbrook</td>\n",
       "      <td>65500.0</td>\n",
       "      <td>49</td>\n",
       "      <td>-6.339286</td>\n",
       "    </tr>\n",
       "    <tr>\n",
       "      <th>22</th>\n",
       "      <td>Greater Rosemont</td>\n",
       "      <td>20000.0</td>\n",
       "      <td>54</td>\n",
       "      <td>-11.339286</td>\n",
       "    </tr>\n",
       "    <tr>\n",
       "      <th>50</th>\n",
       "      <td>Southwest Baltimore</td>\n",
       "      <td>23250.0</td>\n",
       "      <td>54</td>\n",
       "      <td>-11.339286</td>\n",
       "    </tr>\n",
       "    <tr>\n",
       "      <th>51</th>\n",
       "      <td>The Waverlies</td>\n",
       "      <td>79950.0</td>\n",
       "      <td>54</td>\n",
       "      <td>-11.339286</td>\n",
       "    </tr>\n",
       "    <tr>\n",
       "      <th>25</th>\n",
       "      <td>Harbor East/Little Italy</td>\n",
       "      <td>298000.0</td>\n",
       "      <td>55</td>\n",
       "      <td>-12.339286</td>\n",
       "    </tr>\n",
       "    <tr>\n",
       "      <th>8</th>\n",
       "      <td>Claremont/Armistead</td>\n",
       "      <td>90000.0</td>\n",
       "      <td>57</td>\n",
       "      <td>-14.339286</td>\n",
       "    </tr>\n",
       "    <tr>\n",
       "      <th>32</th>\n",
       "      <td>Madison/East End</td>\n",
       "      <td>25000.0</td>\n",
       "      <td>61</td>\n",
       "      <td>-18.339286</td>\n",
       "    </tr>\n",
       "    <tr>\n",
       "      <th>48</th>\n",
       "      <td>Southeastern</td>\n",
       "      <td>75000.0</td>\n",
       "      <td>65</td>\n",
       "      <td>-22.339286</td>\n",
       "    </tr>\n",
       "    <tr>\n",
       "      <th>23</th>\n",
       "      <td>Greenmount East</td>\n",
       "      <td>30000.0</td>\n",
       "      <td>72</td>\n",
       "      <td>-29.339286</td>\n",
       "    </tr>\n",
       "    <tr>\n",
       "      <th>13</th>\n",
       "      <td>Downtown/Seton Hill</td>\n",
       "      <td>235250.0</td>\n",
       "      <td>88</td>\n",
       "      <td>-45.339286</td>\n",
       "    </tr>\n",
       "    <tr>\n",
       "      <th>11</th>\n",
       "      <td>Dickeyville/Franklintown</td>\n",
       "      <td>227550.0</td>\n",
       "      <td>126</td>\n",
       "      <td>-83.339286</td>\n",
       "    </tr>\n",
       "  </tbody>\n",
       "</table>\n",
       "</div>"
      ],
      "text/plain": [
       "                            Neighbourhood  MedianHousePrice  MedianTOM  \\\n",
       "47                        South Baltimore          289900.0         23   \n",
       "45  Poppleton/The Terraces/Hollins Market           73600.0         27   \n",
       "42            Patterson Park North & East          172000.0         28   \n",
       "35                      Midway/Coldstream           17005.0         28   \n",
       "29              Inner Harbor/Federal Hill          320000.0         28   \n",
       "33   Medfield/Hampden/Woodberry/Remington          175000.0         29   \n",
       "54         Westport/Mount Winans/Lakeland           35500.0         30   \n",
       "4                                  Canton          275000.0         30   \n",
       "52                    Upton/Druid Heights           71202.0         31   \n",
       "9                           Clifton-Berea           20000.0         32   \n",
       "15                            Fells Point          249000.0         33   \n",
       "34                                Midtown          200000.0         33   \n",
       "20                      Greater Mondawmin           40500.0         33   \n",
       "38      North Baltimore/Guilford/Homeland          325000.0         33   \n",
       "37            Mount Washington/Coldspring          287000.0         34   \n",
       "28             Howard Park/West Arlington           70000.0         34   \n",
       "31                             Loch Raven           73100.0         34   \n",
       "40                    Oldtown/Middle East          149900.0         35   \n",
       "10                Cross-Country/Cheswolde          165000.0         35   \n",
       "36               Morrell Park/Violetville           69000.0         35   \n",
       "39                              Northwood           90000.0         36   \n",
       "43              Penn North/Reservoir Hill           65000.0         36   \n",
       "21        Greater Roland Park/Poplar Hill          310000.0         36   \n",
       "7               Chinquapin Park/Belvedere          120000.0         36   \n",
       "53             Washington Village/Pigtown          113000.0         36   \n",
       "3       Brooklyn/Curtis Bay/Hawkins Point           40000.0         36   \n",
       "41          Orangeville/East Highlandtown           90000.0         37   \n",
       "55                         Baltimore City          126325.0         38   \n",
       "6                             Cherry Hill           23500.0         38   \n",
       "2                           Belair-Edison           41975.0         39   \n",
       "46        Sandtown-Winchester/Harlem Park           18000.0         39   \n",
       "14                      Edmondson Village           55000.0         39   \n",
       "12                   Dorchester/Ashburton           86250.0         40   \n",
       "18        Greater Charles Village/Barclay          189900.0         41   \n",
       "27                           Highlandtown          265000.0         41   \n",
       "0           Allendale/Irvington/S. Hilton           33250.0         43   \n",
       "19                         Greater Govans           50600.0         44   \n",
       "5                       Cedonia/Frankford           78575.0         45   \n",
       "24                               Hamilton          106000.0         45   \n",
       "30                             Lauraville          132000.0         46   \n",
       "26                       Harford/Echodale          123999.0         47   \n",
       "49                  Southern Park Heights           19900.0         47   \n",
       "17                         Glen-Fallstaff           87500.0         47   \n",
       "44              Pimlico/Arlington/Hilltop           30000.0         48   \n",
       "1         Beechfield/Ten Hills/West Hills          130000.0         49   \n",
       "16                   Forest Park/Walbrook           65500.0         49   \n",
       "22                       Greater Rosemont           20000.0         54   \n",
       "50                    Southwest Baltimore           23250.0         54   \n",
       "51                          The Waverlies           79950.0         54   \n",
       "25               Harbor East/Little Italy          298000.0         55   \n",
       "8                     Claremont/Armistead           90000.0         57   \n",
       "32                       Madison/East End           25000.0         61   \n",
       "48                           Southeastern           75000.0         65   \n",
       "23                        Greenmount East           30000.0         72   \n",
       "13                    Downtown/Seton Hill          235250.0         88   \n",
       "11               Dickeyville/Franklintown          227550.0        126   \n",
       "\n",
       "    TOM Deviations  \n",
       "47       19.660714  \n",
       "45       15.660714  \n",
       "42       14.660714  \n",
       "35       14.660714  \n",
       "29       14.660714  \n",
       "33       13.660714  \n",
       "54       12.660714  \n",
       "4        12.660714  \n",
       "52       11.660714  \n",
       "9        10.660714  \n",
       "15        9.660714  \n",
       "34        9.660714  \n",
       "20        9.660714  \n",
       "38        9.660714  \n",
       "37        8.660714  \n",
       "28        8.660714  \n",
       "31        8.660714  \n",
       "40        7.660714  \n",
       "10        7.660714  \n",
       "36        7.660714  \n",
       "39        6.660714  \n",
       "43        6.660714  \n",
       "21        6.660714  \n",
       "7         6.660714  \n",
       "53        6.660714  \n",
       "3         6.660714  \n",
       "41        5.660714  \n",
       "55        4.660714  \n",
       "6         4.660714  \n",
       "2         3.660714  \n",
       "46        3.660714  \n",
       "14        3.660714  \n",
       "12        2.660714  \n",
       "18        1.660714  \n",
       "27        1.660714  \n",
       "0        -0.339286  \n",
       "19       -1.339286  \n",
       "5        -2.339286  \n",
       "24       -2.339286  \n",
       "30       -3.339286  \n",
       "26       -4.339286  \n",
       "49       -4.339286  \n",
       "17       -4.339286  \n",
       "44       -5.339286  \n",
       "1        -6.339286  \n",
       "16       -6.339286  \n",
       "22      -11.339286  \n",
       "50      -11.339286  \n",
       "51      -11.339286  \n",
       "25      -12.339286  \n",
       "8       -14.339286  \n",
       "32      -18.339286  \n",
       "48      -22.339286  \n",
       "23      -29.339286  \n",
       "13      -45.339286  \n",
       "11      -83.339286  "
      ]
     },
     "execution_count": 12,
     "metadata": {},
     "output_type": "execute_result"
    }
   ],
   "source": [
    "ranks_1_ranked=ranks_1.sort_values([\"TOM Deviations\"],ascending=False)\n",
    "ranks_1_ranked.to_csv(\"Ranking 1.csv\")\n",
    "ranks_1_ranked"
   ]
  },
  {
   "cell_type": "code",
   "execution_count": 13,
   "metadata": {
    "collapsed": false
   },
   "outputs": [],
   "source": [
    "score=[]\n",
    "for i in range(0,len(ranks_1[\"MedianHousePrice\"])):\n",
    "    score.append(ranks_1[\"MedianHousePrice\"][i]/ranks_1[\"MedianTOM\"][i])\n",
    "score=[i/1000 for i in score]\n",
    "ranks_1[\"Dev Score\"]=pd.Series(score)"
   ]
  },
  {
   "cell_type": "code",
   "execution_count": 14,
   "metadata": {
    "collapsed": false
   },
   "outputs": [],
   "source": [
    "ranks_ranked2=ranks_1.sort_values(\"Dev Score\",ascending=False)\n",
    "ranks_ranked2.to_csv(\"ranks_hotness.csv\")"
   ]
  },
  {
   "cell_type": "code",
   "execution_count": 15,
   "metadata": {
    "collapsed": true
   },
   "outputs": [],
   "source": [
    "ranks2=pd.DataFrame()"
   ]
  },
  {
   "cell_type": "code",
   "execution_count": 16,
   "metadata": {
    "collapsed": true
   },
   "outputs": [],
   "source": [
    "pop05=rankings_data[\"Percent of Population 0-5 years old (2010)\"]\n",
    "pop618=rankings_data[\"Percent of Population 6-18 years old (2010)\"]\n",
    "pop2564=rankings_data[\"Percent of Population 25-64 years old (2010)\"]\n",
    "race_div=rankings_data[\"Racial Diversity Index (2010)\"]"
   ]
  },
  {
   "cell_type": "code",
   "execution_count": 17,
   "metadata": {
    "collapsed": false
   },
   "outputs": [],
   "source": [
    "ranks2[\"Neighbourhood\"]=pd.Series(comm)\n",
    "ranks2[\"Pop05\"]=pd.Series(pop05)\n",
    "ranks2[\"MedianTOM\"]=pd.Series(median_tom)\n",
    "ranks2[\"Pop618\"]=pd.Series(pop618)\n",
    "ranks2[\"Pop2564\"]=pd.Series(pop2564)\n",
    "ranks2[\"Diversity Index\"]=pd.Series(race_div)"
   ]
  },
  {
   "cell_type": "code",
   "execution_count": 18,
   "metadata": {
    "collapsed": false
   },
   "outputs": [
    {
     "data": {
      "text/html": [
       "<div>\n",
       "<table border=\"1\" class=\"dataframe\">\n",
       "  <thead>\n",
       "    <tr style=\"text-align: right;\">\n",
       "      <th></th>\n",
       "      <th>Neighbourhood</th>\n",
       "      <th>Pop05</th>\n",
       "      <th>MedianTOM</th>\n",
       "      <th>Pop618</th>\n",
       "      <th>Pop2564</th>\n",
       "      <th>Diversity Index</th>\n",
       "    </tr>\n",
       "  </thead>\n",
       "  <tbody>\n",
       "    <tr>\n",
       "      <th>0</th>\n",
       "      <td>Allendale/Irvington/S. Hilton</td>\n",
       "      <td>6.6</td>\n",
       "      <td>43</td>\n",
       "      <td>18.4</td>\n",
       "      <td>51.9</td>\n",
       "      <td>22.9</td>\n",
       "    </tr>\n",
       "    <tr>\n",
       "      <th>1</th>\n",
       "      <td>Beechfield/Ten Hills/West Hills</td>\n",
       "      <td>6.5</td>\n",
       "      <td>49</td>\n",
       "      <td>16.7</td>\n",
       "      <td>56.2</td>\n",
       "      <td>36.2</td>\n",
       "    </tr>\n",
       "    <tr>\n",
       "      <th>2</th>\n",
       "      <td>Belair-Edison</td>\n",
       "      <td>6.9</td>\n",
       "      <td>39</td>\n",
       "      <td>20.2</td>\n",
       "      <td>54.0</td>\n",
       "      <td>24.6</td>\n",
       "    </tr>\n",
       "  </tbody>\n",
       "</table>\n",
       "</div>"
      ],
      "text/plain": [
       "                     Neighbourhood  Pop05  MedianTOM  Pop618  Pop2564  \\\n",
       "0    Allendale/Irvington/S. Hilton    6.6         43    18.4     51.9   \n",
       "1  Beechfield/Ten Hills/West Hills    6.5         49    16.7     56.2   \n",
       "2                    Belair-Edison    6.9         39    20.2     54.0   \n",
       "\n",
       "   Diversity Index  \n",
       "0             22.9  \n",
       "1             36.2  \n",
       "2             24.6  "
      ]
     },
     "execution_count": 18,
     "metadata": {},
     "output_type": "execute_result"
    }
   ],
   "source": [
    "ranks2.head(3)"
   ]
  },
  {
   "cell_type": "code",
   "execution_count": 19,
   "metadata": {
    "collapsed": false
   },
   "outputs": [
    {
     "data": {
      "text/plain": [
       "<matplotlib.axes._subplots.AxesSubplot at 0x1b97e208>"
      ]
     },
     "execution_count": 19,
     "metadata": {},
     "output_type": "execute_result"
    },
    {
     "data": {
      "image/png": "[encoded data removed]",
      "text/plain": [
       "<matplotlib.figure.Figure at 0x1b935128>"
      ]
     },
     "metadata": {},
     "output_type": "display_data"
    }
   ],
   "source": [
    "sns.regplot(ranks2.MedianTOM ,ranks2.Pop05,order=1,scatter_kws={'color':'r'})"
   ]
  },
  {
   "cell_type": "code",
   "execution_count": 20,
   "metadata": {
    "collapsed": false
   },
   "outputs": [
    {
     "data": {
      "text/plain": [
       "<matplotlib.axes._subplots.AxesSubplot at 0x1b9df390>"
      ]
     },
     "execution_count": 20,
     "metadata": {},
     "output_type": "execute_result"
    },
    {
     "data": {
      "image/png": "[encoded data removed]",
      "text/plain": [
       "<matplotlib.figure.Figure at 0x1ba56438>"
      ]
     },
     "metadata": {},
     "output_type": "display_data"
    }
   ],
   "source": [
    "sns.regplot(ranks2.MedianTOM ,ranks2.Pop2564,order=1,scatter_kws={'color':'r'})"
   ]
  },
  {
   "cell_type": "code",
   "execution_count": 28,
   "metadata": {
    "collapsed": false
   },
   "outputs": [
    {
     "data": {
      "image/png": "[encoded data removed]",
      "text/plain": [
       "<matplotlib.figure.Figure at 0x1f1fecc0>"
      ]
     },
     "metadata": {},
     "output_type": "display_data"
    }
   ],
   "source": [
    "sns.regplot(ranks_1.MedianTOM ,ranks_1.MedianHousePrice,order=1,scatter_kws={'color':'r'})\n",
    "\n",
    "plt.ylim(ymin=0);"
   ]
  },
  {
   "cell_type": "code",
   "execution_count": null,
   "metadata": {
    "collapsed": true
   },
   "outputs": [],
   "source": []
  }
 ],
 "metadata": {
  "kernelspec": {
   "display_name": "Python 2",
   "language": "python",
   "name": "python2"
  },
  "language_info": {
   "codemirror_mode": {
    "name": "ipython",
    "version": 2
   },
   "file_extension": ".py",
   "mimetype": "text/x-python",
   "name": "python",
   "nbconvert_exporter": "python",
   "pygments_lexer": "ipython2",
   "version": "2.7.12"
  }
 },
 "nbformat": 4,
 "nbformat_minor": 1
}
