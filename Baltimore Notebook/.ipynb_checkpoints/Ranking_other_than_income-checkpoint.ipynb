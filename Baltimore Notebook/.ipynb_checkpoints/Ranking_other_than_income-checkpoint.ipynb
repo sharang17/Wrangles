{
 "cells": [
  {
   "cell_type": "code",
   "execution_count": 1,
   "metadata": {
    "collapsed": true
   },
   "outputs": [],
   "source": [
    "import pandas as pd"
   ]
  },
  {
   "cell_type": "markdown",
   "metadata": {},
   "source": [
    "### Ranking based on Female ratio"
   ]
  },
  {
   "cell_type": "code",
   "execution_count": null,
   "metadata": {
    "collapsed": false
   },
   "outputs": [],
   "source": [
    "male_population_df = pd.read_csv('Data/Diversity_data_2010/male_population.csv', thousands=',')\n",
    "male_population_df.columns = ['neighborhood', 'male_population']\n",
    "female_population_df = pd.read_csv('Data/Diversity_data_2010/female_population.csv',thousands=',')\n",
    "female_population_df.columns = ['neighborhood', 'female_population']\n",
    "population_df = pd.merge(male_population_df, female_population_df, on='neighborhood')\n",
    "population_df[['male_population', 'female_population']] = population_df[['male_population', 'female_population']].astype(float)\n",
    "population_df['female_ratio'] = population_df['female_population'].astype('float64')/population_df['male_population'].astype('float64')\n",
    "population_df = population_df.sort_values('female_ratio', ascending=False)\n",
    "population_df.to_csv('ranking_by_female_ratio.csv')"
   ]
  },
  {
   "cell_type": "markdown",
   "metadata": {},
   "source": [
    "### Ranking based on School count and ratings"
   ]
  },
  {
   "cell_type": "code",
   "execution_count": 4,
   "metadata": {
    "collapsed": false
   },
   "outputs": [],
   "source": [
    "from bs4 import BeautifulSoup\n",
    "\n",
    "import requests\n",
    "import re\n",
    "\n",
    "school_df = pd.DataFrame()\n",
    "\n",
    "for x in range(9):\n",
    "    \n",
    "    r  = requests.get(\"http://www.greatschools.org/maryland/baltimore/baltimore-city-public-schools/schools/?page=\" + str(x))\n",
    "    data = r.text\n",
    "    soup = BeautifulSoup(data, 'html.parser')\n",
    "\n",
    "    name_list = []\n",
    "    address_list = []\n",
    "    rating_list = []\n",
    "\n",
    "    schools = soup.find_all('div', attrs={'class': 'pvm gs-bootstrap js-schoolSearchResult js-schoolSearchResultCompareErrorMessage'})  \n",
    "    for school in schools:\n",
    "        school_row = school.find('a', attrs={'class': 'open-sans_sb mbs font-size-medium rs-schoolName'})  \n",
    "        school_name = school_row.text.strip()\n",
    "        name_list.append(school_name)\n",
    "        address_row = school.find('div', attrs={'class': 'hidden-xs font-size-small rs-schoolAddress'})\n",
    "        address_name = address_row.text.strip()\n",
    "        address_list.append(address_name)\n",
    "        rating_div = school.find('span', attrs={'class': 'prm vam'})\n",
    "        rating_row = rating_div.find_all('span')\n",
    "        #print(str(rating_row[0]).split()[3].split(sep='-')[3].split(sep='\"')[0])\n",
    "        rating = str(rating_row[0]).split()[3].split(sep='-')[3].split(sep='\"')[0]\n",
    "        rating_list.append(rating)\n",
    "    columns = {'name': name_list, 'address': address_list, 'rating': rating_list}\n",
    "    page_df = pd.DataFrame(columns)\n",
    "\n",
    "    school_df = school_df.append(page_df)\n",
    "\n",
    "school_df = school_df.reset_index()  \n",
    "#school_df.to_csv('Data/schools.csv')"
   ]
  },
  {
   "cell_type": "code",
   "execution_count": 8,
   "metadata": {
    "collapsed": false
   },
   "outputs": [
    {
     "data": {
      "text/html": [
       "\n",
       "        <iframe\n",
       "            width=\"700\"\n",
       "            height=\"350\"\n",
       "            src=\"https://fusiontables.google.com/embedviz?q=select+col0%3E%3E0+from+1g7xK0GWLHmc2Lo77Re3iZQ9XiMd-bgCDLzJz0LaZ&amp;viz=MAP&amp;h=false&amp;lat=39.2936391964929&amp;lng=-76.5228644265137&amp;t=1&amp;z=12&amp;l=col0%3E%3E0&amp;y=2&amp;tmplt=2&amp;hml=KML\"\n",
       "            frameborder=\"0\"\n",
       "            allowfullscreen\n",
       "        ></iframe>\n",
       "        "
      ],
      "text/plain": [
       "<IPython.lib.display.IFrame at 0x7f790c4613c8>"
      ]
     },
     "execution_count": 8,
     "metadata": {},
     "output_type": "execute_result"
    }
   ],
   "source": [
    "from IPython.display import IFrame\n",
    "IFrame('https://fusiontables.google.com/embedviz?q=select+col0%3E%3E0+from+1g7xK0GWLHmc2Lo77Re3iZQ9XiMd-bgCDLzJz0LaZ&amp;viz=MAP&amp;h=false&amp;lat=39.2936391964929&amp;lng=-76.5228644265137&amp;t=1&amp;z=12&amp;l=col0%3E%3E0&amp;y=2&amp;tmplt=2&amp;hml=KML', width=700, height=350)"
   ]
  },
  {
   "cell_type": "code",
   "execution_count": null,
   "metadata": {
    "collapsed": true
   },
   "outputs": [],
   "source": []
  }
 ],
 "metadata": {
  "anaconda-cloud": {},
  "kernelspec": {
   "display_name": "Python [conda root]",
   "language": "python",
   "name": "conda-root-py"
  },
  "language_info": {
   "codemirror_mode": {
    "name": "ipython",
    "version": 3
   },
   "file_extension": ".py",
   "mimetype": "text/x-python",
   "name": "python",
   "nbconvert_exporter": "python",
   "pygments_lexer": "ipython3",
   "version": "3.5.2"
  }
 },
 "nbformat": 4,
 "nbformat_minor": 1
}
